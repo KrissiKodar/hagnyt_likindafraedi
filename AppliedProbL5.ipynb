{
 "cells": [
  {
   "cell_type": "markdown",
   "id": "19283a39-2b73-446d-86af-932389daa92d",
   "metadata": {},
   "source": [
    "# L5. Continuous Distributions\n",
    "\n",
    "## L5.1 The probability density function (pdf)\n",
    "A random variable is called **continuous** if there is a nonnegative function $f$, called the **probability density function**, or pfd, such that\n",
    "\n",
    "$$P(X \\in B) = \\int_B{f_X(x)dx}$$\n",
    "\n",
    "for every (or almost every...actually every measurable) subset $B$ of the real line. In particular,\n",
    "\n",
    "$$P(a \\le X \\le b) = \\int_a^b{f_X(x)dx}$$\n",
    "\n",
    "\n",
    "Probability of zero means something a little different from the discrete case... Really means something like negligable, not that it can't happen at all. For a single value:\n",
    "\n",
    "$$ P(X=a) = \\int_a^a{f_X(x)dx} = 0$$\n",
    "\n",
    "$$P(a \\le X \\le b) = P(a \\le X < b) = P(a < X \\le b) = P(a < X < b)$$\n",
    "\n",
    "Since we must have $P(X \\in \\Omega) = 1$,\n",
    "\n",
    "$$\\int_{-\\infty}^{\\infty}{f_X(x)dx} = 1$$\n",
    "\n",
    "So, the area under the pdf must equal to 1. To intepret what the pdf means, we can look at\n",
    "\n",
    "$$P([x,x+\\delta]) = \\int_x^{x+\\delta}{f_X(x)dx} \\approx f_X(x)\\delta$$\n",
    "\n",
    "i.e., $f_X(x)$ is the probability mass per unit length near x.\n",
    "\n",
    "The simplest example is the **uniform** distribution, $f_X(x) = 1$ in [0,1].\n",
    "\n",
    "### Exercise. What is the uniform distribution in the interval [a,b]?\n",
    "\n",
    "Recall that the **cumulative distribution function** (CDF) is defined as $F_X(x) = P(X \\le x)$. This means that\n",
    "\n",
    "$$F_X(x) = \\int_{-\\infty}^x{f_X(t)dt}$$\n",
    "\n",
    "so, by the fundamental theorem of calculus,\n",
    "\n",
    "$$f_X(x) = \\frac{dF_X}{dx}$$"
   ]
  },
  {
   "cell_type": "code",
   "execution_count": 2,
   "id": "65a81e1f-4a34-4264-80c5-12f5e47913f2",
   "metadata": {
    "tags": []
   },
   "outputs": [
    {
     "name": "stderr",
     "output_type": "stream",
     "text": [
      "Matplotlib is building the font cache; this may take a moment.\n"
     ]
    },
    {
     "data": {
      "text/plain": [
       "(array([ 987., 1016., 1008.,  972.,  967.,  977., 1007., 1026., 1025.,\n",
       "        1015.]),\n",
       " array([2.57681808e-04, 1.00221366e-01, 2.00185051e-01, 3.00148735e-01,\n",
       "        4.00112420e-01, 5.00076104e-01, 6.00039789e-01, 7.00003474e-01,\n",
       "        7.99967158e-01, 8.99930843e-01, 9.99894527e-01]),\n",
       " <BarContainer object of 10 artists>)"
      ]
     },
     "execution_count": 2,
     "metadata": {},
     "output_type": "execute_result"
    },
    {
     "data": {
      "image/png": "[encoded data removed]",
      "text/plain": [
       "<Figure size 640x480 with 1 Axes>"
      ]
     },
     "metadata": {},
     "output_type": "display_data"
    }
   ],
   "source": [
    "#Let's generate a uniform distribution using numpy\n",
    "%matplotlib inline\n",
    "import numpy as np\n",
    "import matplotlib.pyplot as plt\n",
    "\n",
    "N = 10000\n",
    "sample = np.random.uniform(size=N)\n",
    "plt.hist(sample)"
   ]
  },
  {
   "cell_type": "markdown",
   "id": "b45faf2f-6ef4-4bee-b937-bdad7ad30d82",
   "metadata": {},
   "source": [
    "## L5.2 Expected value\n",
    "\n",
    "For a continuous random variable, its expected value is\n",
    "\n",
    "$$E[X] = \\int_{-\\infty}^{\\infty}{xf_X(x)}$$\n",
    "\n",
    "### Exercise: Find the expected value of the uniform distribution in [0,1]\n",
    "\n",
    "In general,\n",
    "\n",
    "$$E[g(X)] = \\int_{-\\infty}^{\\infty}{g(x)f_X(x)}$$\n",
    "\n",
    "so we can defined the variance and standard devision in the same way as before:\n",
    "\n",
    "$$\\text{Var}(X) = E[X^2-\\bar{X}^2] = \\int_{-\\infty}^{\\infty}{(x^2-\\bar{x}^2)f_X(x)}$$\n",
    "\n",
    "and the standard devision is the square root of the variance as before. The expected value is linear as before because the integral is a linear operator. \n",
    "\n",
    "Let's look at the **exponential** random variable with $f_X(x) = \\lambda e^{-\\lambda x}$ for $x \\ge 0$. Let's first check that $f_X$ it is a pdf, and verify that the mean is $1/\\lambda$. The variance is $1/\\lambda^2$. Also, let's find the cumulative distribution function (CDF) $F_X(x) = P(X \\le x)$.\n",
    "\n",
    "The exponential random variable is useful to model the amount of time until next arrival of something (like a message or customer, or breakdown of something). It is closely related to the geometric random variable."
   ]
  },
  {
   "cell_type": "code",
   "execution_count": 26,
   "id": "fd8ba517-d862-43e5-b437-ddfa16622066",
   "metadata": {},
   "outputs": [
    {
     "data": {
      "text/plain": [
       "[<matplotlib.lines.Line2D at 0x1a77c746af0>]"
      ]
     },
     "execution_count": 26,
     "metadata": {},
     "output_type": "execute_result"
    },
    {
     "data": {
      "image/png": "[encoded data removed]",
      "text/plain": [
       "<Figure size 432x288 with 1 Axes>"
      ]
     },
     "metadata": {
      "needs_background": "light"
     },
     "output_type": "display_data"
    }
   ],
   "source": [
    "#Example simulating the arrival of the next customer?\n",
    "lamb = 1 #Say, one hour mean\n",
    "\n",
    "N = 10000\n",
    "sample = np.random.exponential(scale=1/lamb, size=N) #scale = 1/lambda\n",
    "plt.hist(sample,bins = [0,0.5,1,1.5,2,2.5,3,3.5,4,4.5,5,5.5],density=True)\n",
    "x= np.linspace(0,5.5,100)\n",
    "y = lamb*np.exp(-lamb*x)\n",
    "plt.plot(x,y)"
   ]
  },
  {
   "cell_type": "markdown",
   "id": "9ed10d18-ff9d-46fe-a7ae-767f0aa7a25b",
   "metadata": {},
   "source": [
    "## L5.3 The normal distribution\n",
    "\n",
    "A continuous random variable $X$ is called **normal** or **Gaussian** if it has the following pdf\n",
    "\n",
    "$$f_X(x) = \\frac{1}{\\sqrt{2\\pi} \\sigma}e^{-\\frac{(x-\\mu)^2}{2\\sigma^2}}$$\n",
    "\n",
    "where $\\mu$ and $\\sigma>0$ are paramaters that characterize the distribution. It can be verified that\n",
    "\n",
    "$$\\frac{1}{\\sqrt{2\\pi} \\sigma} \\int_{-\\infty}^{\\infty} {e^{-\\frac{(x-\\mu)^2}{2\\sigma^2}}dx} = 1,$$\n",
    "\n",
    "and that $E[X] = \\mu$ (this one is easy) and std = $\\sigma$ (need to integrate by parts to get this one).\n",
    "\n",
    "When $\\mu=0$ and $\\sigma=1$ we talk about the **standard normal distribution**, and if $Y$ is any normal random variable with mean $\\mu$ and standard deviation $\\sigma$, then it can be written as $Y = \\sigma X + \\mu$ where $X$ is a standard normal random variable. More generally, if $X$ is a normal random variable, then $Y$ = $aX +b$ is also normal.\n",
    "\n",
    "The CDF of the standard normal random variable is\n",
    "\n",
    "$$ \\Phi (x) = \\frac{1}{\\sqrt{2\\pi}} \\int_{-\\infty}^{x} {e^{-\\frac{t^2}{2}}dt} $$\n",
    "\n",
    "Books used to have (and still have) tables for $\\Phi$ because it cannot be calcucalted using a simple formula, but nowadays we can use functions in python, excel, or pretty much any programming language to facility the calculations."
   ]
  },
  {
   "cell_type": "code",
   "execution_count": 8,
   "id": "c0d0d8de-f14c-4264-a4cb-a4ad71183462",
   "metadata": {},
   "outputs": [
    {
     "name": "stdout",
     "output_type": "stream",
     "text": [
      "CSF:  0.5\n"
     ]
    },
    {
     "data": {
      "text/plain": [
       "[<matplotlib.lines.Line2D at 0x1a77b137580>]"
      ]
     },
     "execution_count": 8,
     "metadata": {},
     "output_type": "execute_result"
    },
    {
     "data": {
      "image/png": "[encoded data removed]",
      "text/plain": [
       "<Figure size 432x288 with 1 Axes>"
      ]
     },
     "metadata": {
      "needs_background": "light"
     },
     "output_type": "display_data"
    }
   ],
   "source": [
    "from scipy.stats import norm\n",
    "print(\"CSF: \", norm.cdf(0))\n",
    "x = np.linspace(-3,3,100)\n",
    "y = norm.pdf(x)\n",
    "plt.plot(x,y)"
   ]
  },
  {
   "cell_type": "markdown",
   "id": "63f6752a-0ada-46b0-a3c5-d29868dcb1f3",
   "metadata": {},
   "source": [
    "Because the standard normal is so common and easy to use, most people create the $Z$-score when working with a general normal variable:\n",
    "\n",
    "$$Z = \\frac{X-\\mu}{\\sigma}$$\n",
    "\n",
    "but it converts the normal variable $X$ to a standardized normal variable $Z$. This is often used when computing the CDF of a general normal random variable $X$ as follows:\n",
    "\n",
    "$$F_X(x) = \\Phi (\\frac{x-\\mu}{\\sigma})$$\n",
    "\n",
    "Why is the normal variable so important? It has to do with the Central Limit Theorem, which we explore in next lecture. When dealing with a sum of indepedent random variables, discrete or continuous, they behave in many situations like a normal random variable.\n",
    "\n",
    "Consider for example, the number of heads from tossing a coin. Let's suppose we toss a coin 200 times and want to exposure the sample mean of the number of heads. We can simulate this from a Bernoulli random variable, $X$, where $X=1$ denotes the head. Then, the number of heads, $Y$, is\n",
    "\n",
    "$$Y = \\sum_{i=1}^{200}{X_i}$$\n",
    "\n"
   ]
  },
  {
   "cell_type": "code",
   "execution_count": 3,
   "id": "a3b18699-82e6-469c-aa0a-e9d228ba9e00",
   "metadata": {
    "tags": []
   },
   "outputs": [
    {
     "data": {
      "text/plain": [
       "[<matplotlib.lines.Line2D at 0x2424fde74d0>]"
      ]
     },
     "execution_count": 3,
     "metadata": {},
     "output_type": "execute_result"
    },
    {
     "data": {
      "image/png": "[encoded data removed]",
      "text/plain": [
       "<Figure size 640x480 with 1 Axes>"
      ]
     },
     "metadata": {},
     "output_type": "display_data"
    }
   ],
   "source": [
    "#Let's do a Monte Carlo\n",
    "N = 1000 #Number of experiments\n",
    "n = 200 #Number of tosses per experiment\n",
    "\n",
    "result = []\n",
    "for i in range(N):\n",
    "    sample = np.random.choice(range(0,2), size=n)\n",
    "    result.append(sum(sample))\n",
    "    \n",
    "plt.hist(result,bins=[80, 85, 90, 95, 100, 105, 110, 115, 120], density=True)\n",
    "x= np.linspace(80,120,100)\n",
    "sigma = 0.5*n/np.sqrt(n)\n",
    "\n",
    "y = 1/np.sqrt(2*3.14)/sigma*np.exp(-(x-100)**2/2/sigma**2)\n",
    "plt.plot(x,y)"
   ]
  },
  {
   "cell_type": "markdown",
   "id": "fa4e0d51-4e37-492b-aeda-6291a37f0284",
   "metadata": {},
   "source": [
    "$Y$ behaves approximately like a normal random variable even though the underlying distribution is not normal. The same is true in many other situations. This allows researchers to often assume that errors are normally distributed, beucase the errors may come from many independent sources (still, this is not always true...).\n",
    "\n",
    "We should also note that linear tranformations of normal distributions are also normal. This is easy to see as follows. Supose $X$ is normal with mean $\\mu$ and variance $\\sigma^2$ and $Y = aX+b$. Then,\n",
    "\n",
    "$$F_Y(y) = P(Y \\le y) = P(aX+b \\le y) = P(X \\le \\frac{y-b}{a}) = F_X(\\frac{y-b}{a})$$\n",
    "\n",
    "What happens is that the mean of $Y$ becomes $a\\mu+b$ and the variance is $a^2\\sigma^2$, and it still remains normal.\n",
    "\n",
    "Another interesting case is the normal mixture. If you are dealing with a situation where samples are drawn from two normal distributions (e.g., draw a random sample from 6th grade and 10th grade and measure height). We can use the law of total proability to derive the density of the mixture."
   ]
  },
  {
   "cell_type": "code",
   "execution_count": 33,
   "id": "eb5ab0cc-47ff-4d07-ab56-d8a6d538bf37",
   "metadata": {},
   "outputs": [
    {
     "data": {
      "text/plain": [
       "[<matplotlib.lines.Line2D at 0x1a703c05820>]"
      ]
     },
     "execution_count": 33,
     "metadata": {},
     "output_type": "execute_result"
    },
    {
     "data": {
      "image/png": "[encoded data removed]",
      "text/plain": [
       "<Figure size 432x288 with 1 Axes>"
      ]
     },
     "metadata": {
      "needs_background": "light"
     },
     "output_type": "display_data"
    }
   ],
   "source": [
    "#Simulate a normal mixture\n",
    "\n",
    "m1 = 150\n",
    "s1 = 7\n",
    "\n",
    "m2 = 175\n",
    "s2 = 6\n",
    "\n",
    "N = 100\n",
    "\n",
    "result = []\n",
    "for i in range(N):\n",
    "    #First, flip a cint to check which distribution to sample from\n",
    "    flip = np.random.choice(range(0,2))\n",
    "    if flip == 0:\n",
    "        sample = np.random.normal(m1, s1, 1)[0]\n",
    "    else:\n",
    "        sample = np.random.normal(m2, s2, 1)[0]\n",
    "        \n",
    "    result.append(sample)\n",
    "\n",
    "plt.hist(result, density=True)\n",
    "\n",
    "x= np.linspace(130,190,200)\n",
    "\n",
    "y = 0.5*norm.pdf(x,m1,s1)+0.5*norm.pdf(x,m2,s2)\n",
    "plt.plot(x,y)\n"
   ]
  },
  {
   "cell_type": "markdown",
   "id": "8865337b-c267-4095-b440-1f96840bccfd",
   "metadata": {},
   "source": [
    "## L5.4 The T-distribution\n",
    "\n",
    "People sometimes complain that the normal distribution is thin tailed, and that 6-sigma events occur to frequently in real life situations. The T-distribution, is, however, fat tailed.\n",
    "\n",
    "A random variable $X$ is said to have T-distribution if it has the following pdf\n",
    "\n",
    "$$ \\frac{\\Gamma \\left(\\frac{\\nu+1}{2} \\right)} {\\sqrt{\\nu\\pi}\\,\\Gamma \\left(\\frac{\\nu}{2} \\right)} \\left(1+\\frac{x^2}{\\nu} \\right)^{-\\frac{\\nu+1}{2}}$$\n",
    "\n",
    "where the parameter $\\nu$ is called the degrees of freedom. Its mean is 0 and variance is $\\nu/(\\nu-2)$ for $\\nu > 2$\n",
    "\n",
    "The T-distribution, sometiems called Student's T distribution was first published in 1908 by a worker in the Guinnes factory in connection with the best yielding varieties of barley in the brewery. It arises quite frequently in practice.\n",
    "\n",
    "If we let \n",
    "\n",
    "$$\\bar {X}=\\frac {1}{n}\\sum _{i=1}^{n}X_{i}$$\n",
    "\n",
    "be the sample mean and\n",
    "\n",
    "$$S^{2}=\\frac {1}{n-1}\\sum _{i=1}^{n}(X_{i}-\\bar {X})^{2}$$\n",
    "\n",
    "be the sample variance. Then the random variable (like a Z score)\n",
    "\n",
    "$$\\frac {\\bar {X}-\\mu }{S /{\\sqrt {n}}}$$\n",
    "has a T distribution with $n-1$ degrees of freedom.\n",
    "\n",
    "When we perform linear regression, we often come accross the $T$ distribution and need to be able to use it to find the signficance of our parameter estimates. As the degress of freedom increases, the T distributions tends to the normal distribution."
   ]
  },
  {
   "cell_type": "code",
   "execution_count": 36,
   "id": "bdf4fad8-5a46-4790-bcbc-f88944122ef5",
   "metadata": {},
   "outputs": [
    {
     "name": "stdout",
     "output_type": "stream",
     "text": [
      "                            OLS Regression Results                            \n",
      "==============================================================================\n",
      "Dep. Variable:                      y   R-squared:                       0.416\n",
      "Model:                            OLS   Adj. R-squared:                  0.353\n",
      "Method:                 Least Squares   F-statistic:                     6.646\n",
      "Date:                Mon, 11 Jul 2022   Prob (F-statistic):            0.00157\n",
      "Time:                        17:12:23   Log-Likelihood:                -12.978\n",
      "No. Observations:                  32   AIC:                             33.96\n",
      "Df Residuals:                      28   BIC:                             39.82\n",
      "Df Model:                           3                                         \n",
      "Covariance Type:            nonrobust                                         \n",
      "==============================================================================\n",
      "                 coef    std err          t      P>|t|      [0.025      0.975]\n",
      "------------------------------------------------------------------------------\n",
      "x1             0.4639      0.162      2.864      0.008       0.132       0.796\n",
      "x2             0.0105      0.019      0.539      0.594      -0.029       0.050\n",
      "x3             0.3786      0.139      2.720      0.011       0.093       0.664\n",
      "const         -1.4980      0.524     -2.859      0.008      -2.571      -0.425\n",
      "==============================================================================\n",
      "Omnibus:                        0.176   Durbin-Watson:                   2.346\n",
      "Prob(Omnibus):                  0.916   Jarque-Bera (JB):                0.167\n",
      "Skew:                           0.141   Prob(JB):                        0.920\n",
      "Kurtosis:                       2.786   Cond. No.                         176.\n",
      "==============================================================================\n",
      "\n",
      "Notes:\n",
      "[1] Standard Errors assume that the covariance matrix of the errors is correctly specified.\n"
     ]
    }
   ],
   "source": [
    "import statsmodels.api as sm\n",
    "\n",
    "spector_data = sm.datasets.spector.load()\n",
    "spector_data.exog = sm.add_constant(spector_data.exog, prepend=False)\n",
    "mod = sm.OLS(spector_data.endog, spector_data.exog)\n",
    "res = mod.fit()\n",
    "print(res.summary())"
   ]
  },
  {
   "cell_type": "markdown",
   "id": "e8fc1ad4-1cf2-4ee7-bbbe-74591ffa8ad5",
   "metadata": {},
   "source": [
    "## L5.5 Two continuous random variables and dependence\n",
    "\n",
    "We can also sum two or more independent normal random variables and get other normal random variables (the means sum and the variance sum as well). We'll explore that when we look at transforms. Key word here is independent."
   ]
  },
  {
   "cell_type": "code",
   "execution_count": 35,
   "id": "4314342e-dcca-41eb-a9e2-16cb3dad2e9a",
   "metadata": {},
   "outputs": [
    {
     "data": {
      "text/plain": [
       "(array([4.19319497e-04, 2.69176064e-03, 1.21467390e-02, 2.80673534e-02,\n",
       "        3.99841430e-02, 3.20847047e-02, 1.51225547e-02, 4.00382487e-03,\n",
       "        6.76321769e-04, 6.76321769e-05]),\n",
       " array([265.7997261 , 273.19265685, 280.5855876 , 287.97851835,\n",
       "        295.3714491 , 302.76437985, 310.1573106 , 317.55024135,\n",
       "        324.9431721 , 332.33610285, 339.7290336 ]),\n",
       " <BarContainer object of 10 artists>)"
      ]
     },
     "execution_count": 35,
     "metadata": {},
     "output_type": "execute_result"
    },
    {
     "data": {
      "image/png": "[encoded data removed]",
      "text/plain": [
       "<Figure size 432x288 with 1 Axes>"
      ]
     },
     "metadata": {
      "needs_background": "light"
     },
     "output_type": "display_data"
    }
   ],
   "source": [
    "#Sums of two independent normals\n",
    "\n",
    "m1 = 150\n",
    "s1 = 7\n",
    "\n",
    "m2 = 175\n",
    "s2 = 6\n",
    "\n",
    "N = 10000\n",
    "\n",
    "sample1 = np.random.normal(m1, s1, N)\n",
    "sample2 = np.random.normal(m1, s1, N)\n",
    "\n",
    "sample = sample1+sample2\n",
    "\n",
    "#Is it normal shaped?\n",
    "plt.hist(sample, density=True)"
   ]
  },
  {
   "cell_type": "markdown",
   "id": "f57c66ae-d286-44e5-bbe1-79f9f1a7d2ab",
   "metadata": {},
   "source": [
    "The cumulative distribution function of two continuous random variables is\n",
    "\n",
    "$$F_{X,Y}(x,y) = P(X \\le x, Y \\le y) = \\int_{-\\infty}^x{\\int_{-\\infty}^y{f_{X,Y}(x,y)dxdy}}$$\n",
    "\n",
    "and also\n",
    "\n",
    "$$f_{X,Y}(x,y) = \\frac{\\partial^2 F}{\\partial x \\partial y}$$\n",
    "\n",
    "The expected value is \n",
    "\n",
    "$$E[g(X,Y)] = \\int_{-\\infty}^{\\infty}{\\int_{-\\infty}^{\\infty}{g(x,y)f_{X,Y}(x,y)dxdy}}$$\n",
    "\n",
    "And the conditioning generalizes to continous random variables as before. For example,\n",
    "\n",
    "$$f_{X|A}(x) = \\frac{f_X(x)}{P(X \\in A)}$$\n",
    "\n",
    "$$f_{X|Y} = \\frac{f_{X,Y}(x,y)}{f_Y(y)}$$\n",
    "\n",
    "where the pdf now plays the role of the pmf in the discrete case. \n",
    "\n",
    "Two **independent** continuous random variables $X$ and $Y$ have\n",
    "\n",
    "$$f_{X,Y}(x,y) = f_X(x)f_Y(y)$$\n",
    "\n",
    "and it is simple to see that this implies\n",
    "\n",
    "$$F_{X,Y}(x,y) = F_X(x)F_Y(y)$$\n",
    "\n",
    "and \n",
    "\n",
    "$$E[g(X)h(Y)] = E[g(X)]E[h(Y)]$$"
   ]
  },
  {
   "cell_type": "code",
   "execution_count": null,
   "id": "5ea02919-581f-4697-a996-c28a4386b5d2",
   "metadata": {},
   "outputs": [],
   "source": []
  },
  {
   "cell_type": "markdown",
   "id": "d9ac17ca-6d5a-45d0-b6b8-d67b555e631a",
   "metadata": {},
   "source": [
    "## Homework\n",
    "\n",
    "1. Suppose $X$ has density function $f_X(x) = x/2$ for 0 < x < 2.\n",
    "\n",
    "(a) Find the cumulative distribution function\n",
    "\n",
    "(b) P(X < 1)\n",
    "\n",
    "(c) P(X > 3/2)\n",
    "\n",
    "2. Consider the random variable $X$ with pdf $f_X(x) = \\frac{c}{2\\sqrt{x}}$ in [0,1]\n",
    "\n",
    "(a) Find $c$\n",
    "\n",
    "(b) Find E[X]\n",
    "\n",
    "3. Consider the one sided normal random variable $X$ with $x \\ge 0$, mean $\\mu >0$ and std $\\sigma$. The pdf is $\\phi (x) = \\frac{c}{\\sqrt{2\\pi} \\sigma}e^{-\\frac{(x-\\mu)^2}{2\\sigma^2}}$\n",
    "\n",
    "(a) Find $c$\n",
    "\n",
    "(b) Find $\\mu$ in terms of the standard normal CDF ($\\Phi$)\n",
    "\n",
    "\n"
   ]
  },
  {
   "cell_type": "code",
   "execution_count": null,
   "id": "67967d30-eb8a-496c-b52f-f6860d73b7a4",
   "metadata": {},
   "outputs": [],
   "source": []
  }
 ],
 "metadata": {
  "kernelspec": {
   "display_name": "Python 3 (ipykernel)",
   "language": "python",
   "name": "python3"
  },
  "language_info": {
   "codemirror_mode": {
    "name": "ipython",
    "version": 3
   },
   "file_extension": ".py",
   "mimetype": "text/x-python",
   "name": "python",
   "nbconvert_exporter": "python",
   "pygments_lexer": "ipython3",
   "version": "3.11.4"
  }
 },
 "nbformat": 4,
 "nbformat_minor": 5
}
