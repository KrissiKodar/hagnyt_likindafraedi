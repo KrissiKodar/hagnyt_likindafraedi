{
 "cells": [
  {
   "cell_type": "markdown",
   "id": "8895053c-6c7d-4aa4-a557-3ef8676aaaee",
   "metadata": {},
   "source": [
    "# L6 Derived Random Variables, Transforms, Limit theorems\n",
    "\n",
    "## L6.1 Derived random variables\n",
    "\n",
    "How do we find the distribution of $Y = X^2$ if we know the distribution of $X$? In many simple situations, we can simply use the following\n",
    "\n",
    "$$F_Y(y) = P(Y \\le y) = P(X^2 \\le y) = P(-\\sqrt{y} \\le X \\le \\sqrt{y}) = F_X(\\sqrt{y}) - F_X(-\\sqrt{y})$$\n",
    "\n",
    "Using Monte Carlo is usually very simple and more straight forward than calculating inverse functions for different periods."
   ]
  },
  {
   "cell_type": "code",
   "execution_count": 2,
   "id": "862e4bd2-692b-446d-9f4f-bb7022f45c60",
   "metadata": {},
   "outputs": [
    {
     "data": {
      "text/plain": [
       "[<matplotlib.lines.Line2D at 0x1e72e29cf40>]"
      ]
     },
     "execution_count": 2,
     "metadata": {},
     "output_type": "execute_result"
    },
    {
     "data": {
      "image/png": "[encoded data removed]",
      "text/plain": [
       "<Figure size 432x288 with 1 Axes>"
      ]
     },
     "metadata": {
      "needs_background": "light"
     },
     "output_type": "display_data"
    }
   ],
   "source": [
    "%matplotlib inline\n",
    "import numpy as np\n",
    "import matplotlib.pyplot as plt\n",
    "\n",
    "x= np.linspace(-2,2,100)\n",
    "y = x**3-2*x+1\n",
    "\n",
    "plt.plot(x,y)"
   ]
  },
  {
   "cell_type": "code",
   "execution_count": 3,
   "id": "05bfd4cf-cd59-41aa-a19d-612fe8b7b473",
   "metadata": {},
   "outputs": [
    {
     "data": {
      "text/plain": [
       "(array([0.02777049, 0.02902141, 0.03915388, 0.26119269, 0.27420229,\n",
       "        0.27270118, 0.25493808, 0.03302436, 0.02977196, 0.0291465 ]),\n",
       " array([-2.99593997, -2.19653016, -1.39712034, -0.59771052,  0.20169929,\n",
       "         1.00110911,  1.80051893,  2.59992874,  3.39933856,  4.19874838,\n",
       "         4.9981582 ]),\n",
       " <BarContainer object of 10 artists>)"
      ]
     },
     "execution_count": 3,
     "metadata": {},
     "output_type": "execute_result"
    },
    {
     "data": {
      "image/png": "[encoded data removed]",
      "text/plain": [
       "<Figure size 432x288 with 1 Axes>"
      ]
     },
     "metadata": {
      "needs_background": "light"
     },
     "output_type": "display_data"
    }
   ],
   "source": [
    "N = 10000\n",
    "x = np.random.uniform(-2,2,N)\n",
    "y = x**3-2*x+1\n",
    "plt.hist(y,density=True)"
   ]
  },
  {
   "cell_type": "markdown",
   "id": "6318b324-2992-44de-a23c-3b02f09fa63f",
   "metadata": {},
   "source": [
    "This is what is done when we look at, e.g., portfolio risk, insurance risk, etc. where we may be dealing with several random variables, each with their own distribution. We will see example of that when we look at options in the second part of the course, which are nonlinear functions of the underlying sharesprice.\n",
    "\n",
    "## L6.2 Transforms\n",
    "\n",
    "Transforms are not very intuitive but they are a very useful theoretical tool. A **Moment** is defined as $E[X^n]$ and we know the main ones: $\\mu = E[X]$, and $E[X^2]$ is needed for the variance. The third moment $E[X^3]$ is related to the **skewness** of a distribution, $E \\left[\\left(\\frac {X-\\mu }{\\sigma }\\right)^{3}\\right]$, which measures deviations from symmetry (skewed to the left means that there is more probability mass to the right of the mean, or that the distribution tails off to the left). Symmetric distributions have skewness = 0. The fourth moment $E[X^4]$ is related to **kurtosis**, $E \\left[\\left(\\frac {X-\\mu }{\\sigma }\\right)^{4}\\right]$, which measures the heaviness of the tails. The normal distribution is the typical reference point, but its kurtoisis is 3, and people often subtract 3 from the kurtosis to measure the excessive kurtoisis (beyond normal).\n",
    "\n",
    "The **moment generating function** of a random variable is defined as the function\n",
    "\n",
    "$$M(s) = E[e^{sX}]$$\n",
    "\n",
    "This is also called the Laplace Transform and can be very useful when solving differential equations - informaly, it turns differentiation into multiplication and the other way around. As we will see, we only need it to exist for $s$ in a neighborhood of 0, but the drawback of the Laplace Transform is that it doesn't always exist. A better transform, one that always exists, is the Fourier Transform, but that puts us into Complex Anaysis so we'll stick to the Laplace Transform. \n",
    "\n",
    "For a discrete random variable, the moment generating function is\n",
    "\n",
    "$$M(s) = \\sum_{i=1}^{\\infty}{e^{sx_i}p_X(x_i)}$$\n",
    "\n",
    "and for continuous random variables,\n",
    "\n",
    "$$M(s) = \\int_{-\\infty}^{\\infty}{e^{sx}f_X(x)dx}$$\n",
    "\n",
    "\n",
    "### Example Find the moment generating function of the Poisson distribution and the Exponential distribution (D230)\n",
    "\n",
    "The following may sometimes be useful. If $Y = aX+b$, then:\n",
    "\n",
    "$$M_Y(s) = E[e^{s(aX+b)}] = e^{sb}E[e^{saX}] = e^{sb}M_X(sa)$$\n",
    "\n",
    "Moment generating functions are useful to generate moments - a big reason to use these things in the first place (another reason is that if one can see that two random variables have the same moment generating function, then they have the same distribution).\n",
    "\n",
    "Note the following:\n",
    "\n",
    "$$\\frac{d}{ds}M_X(s) = \\frac{d}{ds}E[e^{sX}] = E[\\frac{d}{ds}e^{sX}] = E[Xe^{sX}]$$\n",
    "\n",
    "If we plug in $s=0$, we simply get $E[X]$. Hence, if we create the moment generating function, $M_X(s)$ and differentiate that function with respect to $s$, evaluate the derivative at $s=0$, we get the mean of $X$. This is often much simpler than computing the mean directly.\n",
    "\n",
    "We can then repeat this process to get\n",
    "\n",
    "$$\\frac{d^n}{ds^n}M_X(s) = \\frac{d^n}{ds^n}E[e^{sX}] = E[\\frac{d^n}{ds^n}e^{sX}] = E[X^ne^{sX}]$$\n",
    "\n",
    "Thus, if we plug in $s=0$ we get $E[X^n]$ for any $n$ and we can generate any number of moments we want.\n",
    "\n",
    "As mentioned earlier, we have the following theorem:\n",
    "\n",
    "#### Inversion Theorem \n",
    "The transformation $M_X(s)$ uniquely determines the CDF of $X$, provided $M_X(s)$ is finite in some interval around s=0\n",
    "\n",
    "Another useful application of moment generating functions is properties of sums of independent random variables.\n",
    "\n",
    "Suppose $X_1$ and $X_2$ are independent, and $Y = X_1 + X_2$ then\n",
    "\n",
    "$$M_Y(s) = M_{X_1}(s)M_{X_2}(s)$$\n",
    "\n",
    "More generally, if $Y = X_1 + X_2 + ... + X_n$ where the $X_i$ are independent, then\n",
    "\n",
    "$$M_Y(s) = M_{X_1}(s)M_{X_2}(s) ...  M_{X_n}(s)$$\n",
    "\n",
    "This allows us to find the distributions and moment generating functions of sums of random variables (e.g., recall that binomial is a sum of Bernoullis).\n",
    "\n",
    "Suppose $X$ and $Y$ are independent normal random variables. It can be shown that the moment generating function of a normal random variable is \n",
    "\n",
    "\n",
    "$$M_X(s) = e^{(\\sigma^2s^2/2) + \\mu s}$$\n",
    "\n",
    "Let's show that the sum $X+Y$ is still normal. The same is true for Poisson random variables."
   ]
  },
  {
   "cell_type": "markdown",
   "id": "d671009b-9b60-419b-9251-b90813bc0b79",
   "metadata": {},
   "source": [
    "## L6.3 Laws of Large Numbers\n",
    "\n",
    "These laws are a bit theoretical, but they are good to know. There are two laws, the weak and strong laws, but they both say more or less the same, i.e., that the sample mean of a large number of iid random variables is very close to the mean itself with high probability.\n",
    "\n",
    "In both cases, we are dealing with iid random variables $X_1$, $X_2$, ... with mean $\\mu$ (this also says that they actually have a mean)\n",
    "Technically, the **weak law** states:\n",
    "\n",
    "$$P\\left(\\left|\\frac{X_1 + X_2 + ... + X_n}{n}-\\mu \\right| \\ge \\epsilon \\right) \\rightarrow 0$$\n",
    "\n",
    "as $ n\\rightarrow \\infty$\n",
    "\n",
    "and the **strong law** states that\n",
    "\n",
    "$$P\\left(\\lim_{n \\to \\infty} \\frac{X_1 + X_2 + ... + X_n}{n} = \\mu \\right) = 1$$\n",
    "\n",
    "The difference lies in the type of convergence (convergence in probability and almost surely convergence also called convergence with probability ). We will not use these extensively, but it is interesting to carry out some Monte Carlo simulations.\n",
    "\n",
    "Let's look at a binomial(10,0.4). The mean is 4, so the sample mean should approximate the mean as n increases (distribution around it should become tighther and tighter). We will see in the next section that the distributions are approximately normal."
   ]
  },
  {
   "cell_type": "code",
   "execution_count": 12,
   "id": "d3893564-c925-4479-b86f-fc34109db7a4",
   "metadata": {},
   "outputs": [
    {
     "name": "stdout",
     "output_type": "stream",
     "text": [
      "Working on  100\n",
      "Working on  1000\n",
      "Working on  10000\n"
     ]
    },
    {
     "data": {
      "image/png": "[encoded data removed]",
      "text/plain": [
       "<Figure size 648x216 with 3 Axes>"
      ]
     },
     "metadata": {
      "needs_background": "light"
     },
     "output_type": "display_data"
    }
   ],
   "source": [
    "#Laws of large numbers\n",
    "import numpy as np\n",
    "\n",
    "fig, axs = plt.subplots(1, 3, figsize=(9, 3), sharey=True)\n",
    "\n",
    "n=10\n",
    "p=0.4\n",
    "\n",
    "N = 10000\n",
    "M = [100,1000, 10000]\n",
    "\n",
    "for i,m in enumerate(M): #For samples means of size m\n",
    "    print('Working on ',m)\n",
    "    samples = []\n",
    "    for j in range(N): #Generate N samples of the sample mean of size m\n",
    "        s = np.random.binomial(n, p, m)\n",
    "        samples.append(sum(s)/m)\n",
    "    axs[i].hist(samples,density=True)"
   ]
  },
  {
   "cell_type": "code",
   "execution_count": null,
   "id": "1a175857-fafb-42ae-b1b0-d8ece2fea908",
   "metadata": {},
   "outputs": [],
   "source": []
  },
  {
   "cell_type": "markdown",
   "id": "8ff27cdb-e40c-4a37-b1d2-54bf4c8a4cca",
   "metadata": {},
   "source": [
    "## L6.4 The Central Limit Theorem\n",
    "\n",
    "The Central Limit Theorem explains the imporance of the normal distribution. It says, essentially, that the sum of iid random variables $X_1, X_2, ...$,  $S_n = X_1 + X_2 + ... + X_n$ is approximately normally distributed as $n$ increases. \n",
    "\n",
    "The mean of the $S_n$ is simply $n\\mu$ and its variance is $\\text{var}(S_n) = n\\text{var}(X)$, and thus the standard deviation is $\\sigma\\sqrt{n}$. If we convert the $S_n$ to its $Z$ score, we get the variable\n",
    "\n",
    "$$Z_n = \\frac{S_n-n\\mu}{\\sigma\\sqrt{n}}$$\n",
    "\n",
    "This is precisely the variable in the **Central Limit Theorem**:\n",
    "\n",
    "Let $X_1, X_2, ...$ be a sequence of independent identically distributed random variables with mean $\\mu$ and variance $\\sigma^2$, and define\n",
    "\n",
    "$$Z_n = \\frac{S_n - n\\mu}{\\sigma\\sqrt{n}}$$\n",
    "\n",
    "Then, the CDF of $Z_n$ converges to the standard normal CDF:\n",
    "\n",
    "$$\\Phi(x) = \\frac{1}{\\sqrt{2\\pi}}\\int_{-\\infty}^x{e^{-x^2/2}}$$\n",
    "\n",
    "in the sense that\n",
    "\n",
    "$$\\lim_{n \\to \\infty} P(Z_n \\le z) = \\Phi(z)$$\n",
    "\n",
    "\n",
    "The CLT is very general and applies is great many practical situations. It says that in many situations, the sum of iid random variables is approximately normal - it applies in many situations where the random effects are a sum of large number of small independent factors (they dont have to be identically distributed in all cases, there are versions of the CLT that remove the identically distributed part, but add some other constraints). The CLT often eliminates the need for detailed probabilitic models with manipulations of pmfs and pdfs (not always though...), and the calculations only depend on means and standard deviations.\n",
    "\n",
    "Here is the general procedure for using the CLT:\n",
    "\n",
    "Let $S_n = X_1 + X_2 + ... + X_n$ where $X_1, X_2, ...$ are iid with mean $\\mu$ and variance $\\sigma^2$. If $n$ is large, the probability $P(S_n \\le c)$ can be approximated by treating $S_n$ as if it were normal, according to the following procedure:\n",
    "\n",
    "\n",
    "1. Calculate the mean $n\\mu$ and variance $n\\sigma^2$ of $S_n$\n",
    "2. Calculate the Z score of c: $z = (c-n\\mu)/\\sigma\\sqrt{n}$\n",
    "3. Approximate $P(S_n \\le c) \\approx \\Phi(z)$\n",
    "\n",
    "\n",
    "Couple of examples:\n",
    "\n",
    "A plane has been loaded with 100 packages whose weight are indepedent random variables that are uniformly distributed between 5 and 50 kg. What is the proability that the total weight will exceed 3000kg?\n",
    "This is not so simple using theory, but we can go though our steps:\n",
    "\n",
    "1. Mean is $100*(5+50)/2 = 2750$, and the variance is $100*(50-5)^2/12 = 16875$\n",
    "2. Z score of 3000 is thus: $(3000-2750)/\\sqrt(16875) = 1.92$\n",
    "3. The approximate value for $P(S_n \\le 3000)$ is $\\Phi(1.92) = 0.9726$\n",
    "\n",
    "The answer is thus $P(S_n > 3000) = 1- P(S_n \\le 3000) \\approx = 1 - 0.9726 = 0.0274$\n",
    "\n",
    "Let's check using Monte Carlo..."
   ]
  },
  {
   "cell_type": "code",
   "execution_count": 16,
   "id": "15372b57-0861-417a-adbc-9c12e5a10f02",
   "metadata": {},
   "outputs": [
    {
     "name": "stdout",
     "output_type": "stream",
     "text": [
      "Estimated probability over 3000:  0.0242\n"
     ]
    },
    {
     "data": {
      "text/plain": [
       "(array([1.40036647e-05, 8.70227732e-05, 5.92154962e-04, 1.76546201e-03,\n",
       "        2.86474968e-03, 2.66869838e-03, 1.49639159e-03, 4.36114128e-04,\n",
       "        6.90180615e-05, 9.00235585e-06]),\n",
       " array([2258.19881368, 2358.17264446, 2458.14647523, 2558.12030601,\n",
       "        2658.09413678, 2758.06796756, 2858.04179833, 2958.01562911,\n",
       "        3057.98945988, 3157.96329066, 3257.93712143]),\n",
       " <BarContainer object of 10 artists>)"
      ]
     },
     "execution_count": 16,
     "metadata": {},
     "output_type": "execute_result"
    },
    {
     "data": {
      "image/png": "[encoded data removed]",
      "text/plain": [
       "<Figure size 432x288 with 1 Axes>"
      ]
     },
     "metadata": {
      "needs_background": "light"
     },
     "output_type": "display_data"
    }
   ],
   "source": [
    "n = 100 #Number of packages\n",
    "N = 10000 #Number of simulations\n",
    "\n",
    "samples = []\n",
    "for i in range(N):\n",
    "    x = np.random.uniform(5,50,n)\n",
    "    sn = sum(x)\n",
    "    samples.append(sn)\n",
    "\n",
    "samples = np.array(samples) #So we can filter it\n",
    "print(\"Estimated probability over 3000: \",len(samples[samples>3000])/N)\n",
    "\n",
    "plt.hist(samples,density=True)"
   ]
  },
  {
   "cell_type": "markdown",
   "id": "a3b3c1e4-c728-4f18-941e-fb6146de1c43",
   "metadata": {},
   "source": [
    "Here is a very practical example on polling. We poll 1000 voters and record the fraction that votes for a particular party. Suppose 175 people say that they will vote for the party. We want to create a 90% confidence interval around this fraction. Now, we model each individual as a Bernoulli variable where 1 represents a vote to the party and 0 that the person does not vote for the party. The Bernoulli variable has a paramter $p$, and due to our new found knowledge of the law of large numbers, we assume that $p=175/100 = 0.175$ is a reasonably close estimate of the parameter of interest.\n",
    "\n",
    "The sample mean is the random variable of interest, i.e., $M_n = S_n/n$ where $S_n = X_1 + X_2 + ... + X_n$, and we assume that the $X_i$ are independent from one another. Since $S_n$ is approximately normal, so is $M_n$. We then go through the same steps as before to find the mean $m$ and standard deviation $s$. The mean is $m = 0.175$ and the standard deviation is $s = \\sqrt{\\frac{p(1-p)}{n}} = 0.012$. Now, in order to find the confidence interval, we need to understand the confidence intervals of normal random variables. For a 90% confidence interval, we want to get the 5% quantile and the 95% quantile (90% between). Because the normal distribution is symmetric around the mean, the two quantiles are also symmetric around the mean (same distance from the mean). \n",
    "\n",
    "The problem is to find $\\alpha$ and $\\beta$ so that $F_{M_n}(\\alpha) = P(M_n \\le \\alpha) = 0.05$ and $F_{M_n}(\\beta) = P(M_n \\le \\beta) = 0.95$.\n",
    "\n",
    "Recall that for a normal random variable $Y$ with mean $\\mu$ and variance $\\sigma^2$, $F_y(y) = \\Phi(\\frac{y-\\mu}{\\sigma})$.\n",
    "\n",
    "So, \n",
    "\n",
    "\n",
    "$$0.05 = F_{M_n}(\\alpha) = \\Phi(\\frac{\\alpha - m}{s})$$\n",
    "\n",
    "or \n",
    "\n",
    "$$ \\alpha = m - \\Phi^{-1}(0.05)\\sigma$$\n",
    "\n",
    "Similarly,\n",
    "\n",
    "$$ \\beta = m + \\Phi^{-1}(0.95)\\sigma$$\n",
    "\n",
    "It turns out that $\\Phi^{-1}(0.95) = -\\Phi^{-1}(0.05) = 1.645$, so the 90% confidence interval is $[m - 1.645s,m + 1.645s] = [0.155,0.195]$\n",
    "\n",
    "We can also go back and ask ourselves how big $n$ needs to be to get a target accuracy."
   ]
  },
  {
   "cell_type": "code",
   "execution_count": null,
   "id": "3ebc5325-430e-444b-8335-cf85128f8d21",
   "metadata": {},
   "outputs": [],
   "source": []
  },
  {
   "cell_type": "markdown",
   "id": "54b9b4f8-8cc4-41bc-98a1-4d013f9552bd",
   "metadata": {},
   "source": [
    "\n",
    "\n"
   ]
  },
  {
   "cell_type": "code",
   "execution_count": null,
   "id": "93779773-1cc1-4cff-a903-0786f05e718b",
   "metadata": {},
   "outputs": [],
   "source": []
  },
  {
   "cell_type": "markdown",
   "id": "6dc585ad-47ec-420f-ae85-7a563125aea3",
   "metadata": {},
   "source": [
    "## Homework\n",
    "\n",
    "1. John drives from Akureyri to Reykjavik, a distance of 400km at constant speed $V$ whose value is uniformly distributed in 90km/h to 100km/h. What is the pdf of the duration of the trip, $T = \\frac{400}{V}$? Feel free to do this using Monte Carlo as well.\n",
    "\n",
    "2. Find the moment generating function of a Bernoulli Random Variable and use it to determine the mean, variance, skewness and kurtoisis of the variable.\n",
    "\n",
    "3. Alice plays roulette and bets \\\\$1 on black in each play. The probability of winning \\\\$1 in each play is 18/38 ans losing \\\\$1 is 20/38. What is the proability that Alice has a positive total winnings after 81 games? "
   ]
  },
  {
   "cell_type": "code",
   "execution_count": null,
   "id": "27cd8bea-d284-4105-b82a-fb8adfbc2175",
   "metadata": {},
   "outputs": [],
   "source": []
  }
 ],
 "metadata": {
  "kernelspec": {
   "display_name": "Python 3 (ipykernel)",
   "language": "python",
   "name": "python3"
  },
  "language_info": {
   "codemirror_mode": {
    "name": "ipython",
    "version": 3
   },
   "file_extension": ".py",
   "mimetype": "text/x-python",
   "name": "python",
   "nbconvert_exporter": "python",
   "pygments_lexer": "ipython3",
   "version": "3.11.4"
  }
 },
 "nbformat": 4,
 "nbformat_minor": 5
}
