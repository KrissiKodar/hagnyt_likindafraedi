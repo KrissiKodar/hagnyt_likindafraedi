{
 "cells": [
  {
   "cell_type": "code",
   "execution_count": 1,
   "metadata": {},
   "outputs": [],
   "source": [
    "import numpy as np\n",
    "\n"
   ]
  },
  {
   "cell_type": "code",
   "execution_count": 8,
   "metadata": {},
   "outputs": [
    {
     "name": "stdout",
     "output_type": "stream",
     "text": [
      "[1 2 3 4 5 6]\n",
      "[1]\n",
      "[1]\n",
      "[4]\n",
      "[1]\n",
      "[2]\n",
      "[1]\n",
      "[2]\n",
      "[1]\n",
      "[2]\n",
      "[4]\n",
      "[1]\n",
      "[5]\n",
      "[2]\n",
      "[2]\n",
      "[3]\n",
      "[3]\n",
      "[6]\n",
      "[1]\n",
      "[5]\n",
      "[2]\n",
      "[2]\n",
      "[4]\n",
      "[5]\n",
      "[4]\n",
      "[1]\n",
      "[5]\n",
      "[5]\n",
      "[2]\n",
      "[4]\n",
      "[1]\n"
     ]
    }
   ],
   "source": [
    "outcomes = ['G', 'G', 'G', 'G', 'L','E', 'L', 'G', 'L', \n",
    "            'L', 'G', 'E', 'G', 'E', 'G', 'E', 'G', 'G',\n",
    "            'L', 'L', 'G', 'G', 'L', 'L', 'G', 'G', 'G', \n",
    "            'E', 'G', 'G']\n",
    "\n",
    "\n",
    "max_n = 6\n",
    "n_rolls = 1\n",
    "die = np.arange(max_n) + 1\n",
    "print(die)\n",
    "N = 30\n",
    "\n",
    "A = 0\n",
    "B = 0\n",
    "both = 0\n",
    "\n",
    "\n",
    "prior = 6*[1/6]\n",
    "\n",
    "for i in range(N):\n",
    "    likelihoods = 6*[0]\n",
    "    for j in range(len(prior)):\n",
    "        for k in range(len(likelihoods)):\n",
    "            if outcomes[i] == 'L':\n",
    "                likelihoods[k]\n",
    "            \n",
    "        \n"
   ]
  }
 ],
 "metadata": {
  "kernelspec": {
   "display_name": ".venv",
   "language": "python",
   "name": "python3"
  },
  "language_info": {
   "codemirror_mode": {
    "name": "ipython",
    "version": 3
   },
   "file_extension": ".py",
   "mimetype": "text/x-python",
   "name": "python",
   "nbconvert_exporter": "python",
   "pygments_lexer": "ipython3",
   "version": "3.11.2"
  },
  "orig_nbformat": 4
 },
 "nbformat": 4,
 "nbformat_minor": 2
}
