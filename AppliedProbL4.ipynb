{
 "cells": [
  {
   "cell_type": "markdown",
   "id": "1103be77-854e-498b-9489-1948eb08d9a0",
   "metadata": {},
   "source": [
    "# L4. Discrete Joint distributions, covariance, correlation and depedendence\n",
    "\n",
    "## L4.1 Join pmfs\n",
    "\n",
    "Models often involve more than one variable. For example, measuring the distance travelled by someone in a day involves both time travelled and the travel velocity. Thus, we often need to consider probabilities of events involving simultaneously several random variables. We can still have pmfs in this situation and they are called the join probability mass functions. If we assume that we have two discrete random variables $X$ and $Y$ associated with the same experiment, then, the **joint pmf** is defined as the probability mass at $(x,y)$, i.e., \n",
    "\n",
    "$$p_{X,Y}(x,y) = P(X=x, Y=y)$$\n",
    "\n",
    "where the comma indicates an intersection or an \"and\".\n",
    "\n",
    "We then have as before:\n",
    "\n",
    "$$P({X,Y} \\in A) = \\sum_{(x,y) \\in A}{p_{X,Y}(x,y)}$$\n",
    "\n",
    "We can even use this to estimate the **marginal** pmf of each random variable:\n",
    "\n",
    "$$p_X(x) = \\sum_y{p_{X,Y}(x,y)}$$\n",
    "\n",
    "and the same for the pmf of $Y$. Unfortunately, we cannot go in the other direction - given the marginal pmfs, we cannot recover the full joint pmf (the dependency structure is missing).\n",
    "\n",
    "### Exercise: Find the joint pmf of $X$ = outcome of a throw of a die and $Y$ = 1 if the outcome of the same die is even and 0 otherwise. Can you find the marginal pmf for Y?\n",
    "\n",
    "The expected value works the same way\n",
    "\n",
    "$$E[g(X,Y)] = \\sum_x{\\sum_y{g(x,y)p_{X,Y}(x,y)}}$$\n",
    "\n",
    "and the expected value is still linear\n",
    "\n",
    "$$E[aX + bY + c] = aE[X] + bE[Y] + c$$\n",
    "\n",
    "In the previous exercise, E[X] = 3.5 and E[Y] = 0.5, so $E[X+Y] = E[X] + E[Y] = 4$ (even though they are dependent).\n",
    "\n",
    "## L4.2 Conditioning\n",
    "\n",
    "The values of random variables can also be conditioned on an event. The **conditional pmf** of a random variable $X$ conditioned on an event $A$ (with $P(A)>0$) is defined as\n",
    "\n",
    "$$p_{X|A}(x) = P(X=x|A) = \\frac{P(\\{X=x\\} \\cap A)}{P(A)}$$\n",
    "\n",
    "Let's find the pmf of $X$ in the previous exercise with the event $A$ = {the roll is even}.\n",
    "\n",
    "We can also condition on another variable. It works in the same way\n",
    "\n",
    "$$p_{X|Y}(x|y) = P(X=x|Y=y) = \\frac{P(\\{X=x\\} \\cap \\{Y=y\\})}{P(\\{Y=y\\})}$$\n",
    "\n",
    "Our previous example covers $p_{X|Y}(x|1)$, but let's find $p_{X|Y}(x|0)$ to cover the full conditional $p_{X|Y}(x|y)$\n",
    "\n",
    "The conditional pmf can be thought of as an ordinary pmf over a restricted universe (defined by the value of the second variable). In the same way, we can define the conditional expectation as an ordinary expectation, but now the probabilities are replaced with the corresponding conditional probabilities.\n",
    "\n",
    "$$E[X|A] = \\sum_x{xp_{X|A}(x)}$$\n",
    "\n",
    "$$E[X|Y] = \\sum_x{xp_{X|Y}(x|y)}$$\n",
    "\n",
    "Let's find the expected number of heads in the first 4 tosses given that we got 7 heads in the first 10 tosses. This is like having an urn with 7 blue balls and 3 white balls. Define $X$ as the number of heads in first 4 tosses and $Y$ as the number of heads in first 10. We want to find E[X|Y=7]. We are picking 4 balls from the Urn, so we can find the probability of getting 0, 1, 2, 3, or 4 blue balls using the hypergeometric distribution. Recall that the hypergeometric is given by\n",
    "\n",
    "$$\\frac{\\binom{m}{i}\\binom{n-m}{k-i}}{\\binom{n}{k}}$$\n",
    "\n",
    "and here n=10, m=7, and k=4. i is then 0, 1,2,3 or 4."
   ]
  },
  {
   "cell_type": "code",
   "execution_count": 1,
   "id": "630c17c8-f118-4007-9c52-2d7ffda57ada",
   "metadata": {
    "editable": true,
    "slideshow": {
     "slide_type": ""
    },
    "tags": []
   },
   "outputs": [
    {
     "name": "stdout",
     "output_type": "stream",
     "text": [
      "Actual distribution:  [0.0, 0.03333333333333333, 0.3, 0.5, 0.16666666666666666]\n",
      "Theoretical answer:  2.8\n",
      "Actual sample:  113\n",
      "Monte Carlo distribution:  [0.0, 0.035398230088495575, 0.3008849557522124, 0.4690265486725664, 0.19469026548672566]\n",
      "Monte Carlo answer:  2.8230088495575223\n"
     ]
    }
   ],
   "source": [
    "#Monte Carlo of the example...\n",
    "import numpy as np\n",
    "import scipy.special\n",
    "\n",
    "def hypergeometric(n,m,k,i):\n",
    "    return scipy.special.binom(m,i)*scipy.special.binom(n-m,k-i)/scipy.special.binom(n,k)\n",
    "\n",
    "pmf = []\n",
    "for i in range(5):\n",
    "    pmf.append(hypergeometric(10,7,4,i))\n",
    "    \n",
    "    \n",
    "print(\"Actual distribution: \",pmf)\n",
    "print(\"Theoretical answer: \", sum(np.array(pmf)*np.arange(0,5)))\n",
    "    \n",
    "#Monte Carlo\n",
    "\n",
    "N = 1000 #Number of simulations, 100k is good\n",
    "\n",
    "actual_sample = 0 #When we hit 7 heads out of 10\n",
    "number_of_heads = 5*[0] #count for 0, 1,2,3,4 heads in first 4 tosses\n",
    "for i in range(N):\n",
    "    #Toss a coin ten times\n",
    "    ten_tosses = np.random.choice(range(0, 2), size=10, replace=True)\n",
    "    if sum(ten_tosses) == 7:\n",
    "        actual_sample += 1\n",
    "        number_of_heads[sum(ten_tosses[0:4])] += 1\n",
    "        \n",
    "print(\"Actual sample: \", actual_sample)\n",
    "mc_pmf = [n/actual_sample for n in number_of_heads]\n",
    "print(\"Monte Carlo distribution: \", mc_pmf)\n",
    "print(\"Monte Carlo answer: \", sum(np.array(mc_pmf)*np.arange(0,5)))"
   ]
  },
  {
   "cell_type": "markdown",
   "id": "7d8a33cd-1da5-4eaf-b683-43118829398d",
   "metadata": {},
   "source": [
    "Some further properties of conditional expectations:\n",
    "\n",
    "If $A_1, ..., A_n$ is a disjoint partition of the sample space with $P(A_i)>0$, then\n",
    "\n",
    "$$E[X] = \\sum_{i=1}^n{P(A_i)E[X|A_i]}$$\n",
    "\n",
    "So, similar to the total probability rule. This is sometimes useful to compute complicated $E[X]$.\n",
    "\n",
    "Similarly, for conditioning on another variable, \n",
    "\n",
    "$$E[X] = \\sum_{y}^n{p_Y(y)E[X|Y=y]}$$\n"
   ]
  },
  {
   "cell_type": "markdown",
   "id": "04b1252f-764b-41e2-a728-36f665d3a174",
   "metadata": {},
   "source": [
    "## L4.3 Independence, \n",
    "\n",
    "Conditioning leads to dependence. If conditioning does not change the distribution of a random variable, then random variable is independent of the event that we are conditioning on. That is,\n",
    "\n",
    "$$p_{X|A}(x) = p_X(x)$$\n",
    "\n",
    "... the event has no impact on the probability of $X$ being $x$ (for all $x$).\n",
    "\n",
    "### Exercise: Is the variable $X$ = number of heads from two independent tosses of a coin, and A be the event that the number of heads is even. Is $X$ independent from A?\n",
    "\n",
    "Dependence between random variables is the same. Two random variables, $X$ and $Y$, are independent if\n",
    "\n",
    "$$p_{X,Y}(x,y) = p_X(x)p_Y(y)$$\n",
    "\n",
    "for all $x$ and $y$. This is just the same as $P(A \\cap B) = P(A)P(B)$. If this is what independence means, then dependence means the opposite, i.e., this equality no longer holds and if $y$ changes, then that will have an effect on the probability of observing $x$. More generally, this means that $X$ is some function of $Y$ and potentially other things a well.\n",
    "\n",
    "One of the nice benefits of independence of two random variables is the following rule:\n",
    "\n",
    "$$E[XY] = E[X]E[Y]$$\n",
    "\n",
    "and more generally,\n",
    "\n",
    "$$E[g(X)h(Y)] = E[g(X)]E[h(Y)]$$ \n",
    "\n",
    "\n",
    "## L4.4 Covariance and correlation\n",
    "\n",
    "The **covariance** of two random variables is defined as \n",
    "\n",
    "$$ \\text{cov}(X,Y) = E[(X - EX)(Y-EY)] = E[XY] - E[X]E[Y]$$\n",
    "\n",
    "Note that  $\\text{cov}(X,X) = var(X)$. Intuitively, a positive covariance means that if $X$ is above its mean, then $Y$ tends to be above its mean and vise versa, and if $X$ is below its mean, then $Y$ tends to be below its mean. Thus, there is some kind of relationship between the variables in that they tend to vary together, or \"covary\". If they vary up and down independently, then the covariance is close to zero. In fact, we see from the previous section that if $X$ and $Y$ are independent, then their covariance is 0. The reverse is NOT true, a covariance of 0 does not necessarily imply independence.\n",
    "\n",
    "When we have N data points [(x,y)] and want to estimate covariance, we use the following formula (assumes that all data points have the same probability = 1/N):\n",
    "\n",
    "$$cov(X,Y) = \\sum_i^N{\\frac{(x_i-\\bar{x})(y_i-\\bar{y})}{N}} = \\frac{1}{N}\\sum_i^N{x_iy_i} - \\frac{1}{N^2}\\sum_i^N{x_i}\\sum_i^N{y_i}$$\n",
    "\n",
    "**Correlation** is closely related to covariance. In fact, it is more or less the same. just scaled:\n",
    "\n",
    "$$\\text{corr(X,Y)} = \\frac{cov(X,Y)}{\\sigma_X \\sigma_Y}$$\n",
    "\n",
    "A famous inequality (Cauchy-Schwarz) tells us the correlation can only be in the range of -1 to 1. Independent variables have 0 correlation. Perfectly linearly related variables have correlation of +1 if the linear relation is positive (positive coefficient, like Y = 2X) and -1 if there is a perfect negative linear relation (like Y = -2X).\n",
    "\n",
    "Let´s do couple of examples."
   ]
  },
  {
   "cell_type": "code",
   "execution_count": 2,
   "id": "2d1fa491-1794-4627-b3c0-eaf149061a32",
   "metadata": {},
   "outputs": [
    {
     "name": "stdout",
     "output_type": "stream",
     "text": [
      "Covariance (independent):  0.009660976381031776\n",
      "Covariance (postive):  0.1580501791690848\n",
      "Covariance (negative):  -0.15888937761614472\n"
     ]
    },
    {
     "data": {
      "text/plain": [
       "[<matplotlib.lines.Line2D at 0x22595c09a50>]"
      ]
     },
     "execution_count": 2,
     "metadata": {},
     "output_type": "execute_result"
    },
    {
     "data": {
      "image/png": "[encoded data removed]",
      "text/plain": [
       "<Figure size 1200x600 with 3 Axes>"
      ]
     },
     "metadata": {},
     "output_type": "display_data"
    }
   ],
   "source": [
    "%matplotlib inline\n",
    "import numpy as np\n",
    "import matplotlib.pyplot as plt\n",
    "\n",
    "fig, (ax0, ax1, ax2) = plt.subplots(nrows=1, ncols=3, \n",
    "                                    figsize=(12, 6))\n",
    "\n",
    "#Independence\n",
    "N = 100\n",
    "X = np.random.uniform(0,1, size=N)\n",
    "Y = np.random.uniform(0,1, size=N)\n",
    "C = np.cov(X,Y)[0,1] #Just get the covariance directly\n",
    "\n",
    "print(\"Covariance (independent): \",C)\n",
    "ax0.set_title('Independent')\n",
    "ax0.plot(X,Y,'o')\n",
    "\n",
    "#Positive dependence\n",
    "Y = 2*X + 0.2*np.random.uniform(0,1, size=N)\n",
    "C = np.cov(X,Y)[0,1]\n",
    "print(\"Covariance (postive): \",C)\n",
    "ax1.set_title('Positive covariance')\n",
    "ax1.plot(X,Y,'o')\n",
    "\n",
    "#Negative dependence\n",
    "Y = -2*X + 0.1*np.random.uniform(0,1, size=N)\n",
    "C = np.cov(X,Y)[0,1]\n",
    "print(\"Covariance (negative): \",C)\n",
    "ax2.set_title('Negative covariance')\n",
    "ax2.plot(X,Y,'o')\n"
   ]
  },
  {
   "cell_type": "markdown",
   "id": "04fe097d-9c73-4e2a-962e-2a24c2ac2371",
   "metadata": {},
   "source": [
    "Correlation measures linear dependence. The dependence can be non-linear, and then the correlation may be zero. Below is a famous example of when the data is highly dependent but their correlation is zero. Thus no correlation does not imply independence."
   ]
  },
  {
   "cell_type": "code",
   "execution_count": 3,
   "id": "82bbde89-2170-4915-899b-dc307c9191a0",
   "metadata": {},
   "outputs": [
    {
     "name": "stdout",
     "output_type": "stream",
     "text": [
      "Correlation between X and Y:  -1.447819824861036e-17\n"
     ]
    }
   ],
   "source": [
    "%matplotlib inline\n",
    "import matplotlib.pyplot as plt\n",
    "import numpy as np\n",
    "#import pandas as pd\n",
    "\n",
    "x = np.random.uniform(-1,1,40)\n",
    "y = np.sqrt(1-x*x)\n",
    "X = list(x) + list(x)\n",
    "Y = list(y) + list(-y)\n",
    "\n",
    "#df = pd.DataFrame({'X':X, 'Y': Y})\n",
    "print(\"Correlation between X and Y: \", np.corrcoef(X,Y)[0,1])\n",
    "\n",
    "#df\n",
    "#plt.figure(figsize = (7,7))\n",
    "#plt.plot(X,Y,'o')"
   ]
  },
  {
   "cell_type": "markdown",
   "id": "b0101c55-feea-4c79-be50-ff4fb1a6bcd5",
   "metadata": {},
   "source": [
    "Let's do an interesting example where two variables cause another variable. We will not discuss causality any further but it is one of the most interesting recent developments in probability theory, although it has not yet found its way into the mainstream textbooks.\n",
    "\n",
    "Good references here are:\n",
    "\n",
    "The book of Why by Pearl and MacKenzie\n",
    "\n",
    "Behavioral data Analysis with R & Python\n",
    "\n",
    "Here is one example from the Book of Why (and they take the example from somehwere else):\n",
    "\n",
    "Where is my bag? Suppose you just landed back home after a long flight that made a connection in London (i.e., you landed there to change planes), and that you are waiting for your bag on the carousel in the bagging area. Other passengers are getting their bags but you are waiting and waiting for your bag. The question then arises on the probability that your bag didn't make the connection in London. Maybe you should just wait a little longer. What is the chance that the bag will be on the carousel at any given time? The answer is that it depends on two things. How long have you been waiting for the bag, and of course whether or not the bag was on the plane or not.\n",
    "\n",
    "The idea is that there are two independent causes for the appearance of the bag on the belt (Z=1). First of all, it had to have been on the plane to begin with (X=1), and then it must come through the local system so that it becomes more and more likely to be on the belt as time passes (if was on the plane). Suppose for simplicity that all the bags have been loaded after 10 minutes, and that we are looking at Y=0, 1, ... , 10, that the bag is equally likely to arrive on the belt at any time, and that the probability of the bag missing the connecting flight is 50%. In order to solve the problem, we need to create a a conditional probability table:\n",
    "\n",
    "<table>\n",
    "    <tr>\n",
    "        <th>X</th><th>Y</th><th>P(Z=0|X,Y)</th><th>P(Z=1|X,Y)</th>\n",
    "    </tr>\n",
    "        <tr><td>0</td><td>0</td><td>1</td><td>0</td></tr>\n",
    "        <tr><td>0</td><td>1</td><td>1</td><td>0</td></tr>\n",
    "        <tr><td>0</td><td>2</td><td>1</td><td>0</td></tr>\n",
    "        <tr><td>0</td><td>3</td><td>1</td><td>0</td></tr>\n",
    "        <tr><td>0</td><td>4</td><td>1</td><td>0</td></tr>\n",
    "        <tr><td>0</td><td>5</td><td>1</td><td>0</td></tr>\n",
    "        <tr><td>0</td><td>6</td><td>1</td><td>0</td></tr>\n",
    "        <tr><td>0</td><td>7</td><td>1</td><td>0</td></tr>\n",
    "        <tr><td>0</td><td>8</td><td>1</td><td>0</td></tr>\n",
    "        <tr><td>0</td><td>9</td><td>1</td><td>0</td></tr>\n",
    "        <tr><td>0</td><td>10</td><td>1</td><td>0</td></tr>\n",
    "        <tr><td>1</td><td>0</td><td>1</td><td>0</td></tr>\n",
    "        <tr><td>1</td><td>1</td><td>0.9</td><td>0.1</td></tr>\n",
    "        <tr><td>1</td><td>2</td><td>0.8</td><td>0.2</td></tr>\n",
    "        <tr><td>1</td><td>3</td><td>0.7</td><td>0.3</td></tr>\n",
    "        <tr><td>1</td><td>4</td><td>0.6</td><td>0.4</td></tr>\n",
    "        <tr><td>1</td><td>5</td><td>0.5</td><td>0.5</td></tr>\n",
    "        <tr><td>1</td><td>6</td><td>0.4</td><td>0.6</td></tr>\n",
    "        <tr><td>1</td><td>7</td><td>0.3</td><td>0.7</td></tr>\n",
    "        <tr><td>1</td><td>8</td><td>0.2</td><td>0.8</td></tr>\n",
    "        <tr><td>1</td><td>9</td><td>0.1</td><td>0.9</td></tr>\n",
    "        <tr><td>1</td><td>10</td><td>0</td><td>1</td></tr>\n",
    "</table>        \n",
    "            \n",
    "The table gives us the depedency structure between the variables and all the information we need to answer the original question.\n",
    "            \n",
    "The problem is to find the probability that the bag will arrive on the carousel: \n",
    "            \n",
    "$P(X=1|Y = y, Z_i=0)$ for i = 0, 1, .., y.\n",
    "\n",
    "We know that $P(X=1|Y=0) = 0.5$. However,\n",
    " \n",
    "$$P(X=1|Y= 1,Z_1=0) = \\frac{P(X=1,Y=1,Z_0=0,Z_1=0)}{P(Y=1,Z_0=0,,Z_1=0)} \n",
    "= \\frac{P(X=1)P(Y=1,Z_0=0,Z_1=0|X=1)}{P(Y=1,Z_0=0,Z_1=0|X=0)P(X=0)+P(Y=1,Z_0=0,Z_1=0|X=1)P(X=1)} \n",
    "= \\frac{0.5*0.9}{1*0.5+0.9*0.5} = 47\\%$$\n",
    "            \n",
    "In general,\n",
    "\n",
    "$$P(X=1|Y=i,Z_0=0,Z_1=0, ..., Z_{y}=0) = \\frac{P(X=1,Y=y,Z_0=0,Z_1=0, ..., Z_{y}=0)}{P(Y=i,Z_0=0,Z_1=0, ..., Z_{y}=0)} = \\frac{P(X=1)P(Y=i,Z_0=0,Z_1=0, ..., Z_{y}=0|X=1)}{P(Y=i,Z_0=0,Z_1=0, ..., Z_{y}=0|X=0)P(X=0)+P(Y=i,Z_0=0,Z_1=0, ..., Z_{y}=0|X=1)P(X=1)} = \\frac{0.5*i/10}{1*0.5+i/10*0.5} $$"
   ]
  },
  {
   "cell_type": "code",
   "execution_count": 5,
   "id": "74fedb46-d7ca-4e82-a4f4-5d73e5133400",
   "metadata": {
    "editable": true,
    "slideshow": {
     "slide_type": ""
    },
    "tags": []
   },
   "outputs": [
    {
     "data": {
      "text/plain": [
       "<BarContainer object of 11 artists>"
      ]
     },
     "execution_count": 5,
     "metadata": {},
     "output_type": "execute_result"
    },
    {
     "data": {
      "image/png": "[encoded data removed]",
      "text/plain": [
       "<Figure size 640x480 with 1 Axes>"
      ]
     },
     "metadata": {},
     "output_type": "display_data"
    }
   ],
   "source": [
    "#Let's take a look at the probabilities:\n",
    "y = list(range(0,11))\n",
    "p = [0.5*i/10/(0.5+0.5*i/10) for i in range(10,-1,-1)]\n",
    "plt.bar(y,p)\n",
    "#pd.DataFrame({\"y\":y,\"p\":p}) #Just to display in nice table format"
   ]
  },
  {
   "cell_type": "code",
   "execution_count": null,
   "id": "6345ef21-5e06-47b1-9712-42ad6486daca",
   "metadata": {},
   "outputs": [],
   "source": [
    "#And, let's see if we can generate it using Monte Carlo\n",
    "#Involves a bit of data wrangling...\n",
    "\n",
    "import numpy as np\n",
    "import pandas as pd\n",
    "\n",
    "N = 10000 #Number of scenarios\n",
    "res = [] #A list of dicts that will be put into a dataframe\n",
    "\n",
    "\n",
    "for i in range(N):\n",
    "    #First, pick an X\n",
    "    x = np.random.choice([0,1])\n",
    "    \n",
    "    #Base scenario, modify if x=1\n",
    "    scenario = {\"x\":0,\n",
    "                \"z1\":0,\"z2\":0,\"z3\":0,\"z4\":0,\"z5\":0,\n",
    "                \"z6\":0,\"z7\":0,\"z8\":0,\"z9\":0,\"z10\":0}\n",
    "    \n",
    "    if x == 1:\n",
    "        #Then, pick a y - when the bag appears\n",
    "        y = np.random.choice([1,2,3,4,5,6,7,8,9,10])\n",
    "        scenario[\"x\"] = 1\n",
    "        scenario[\"z\"+str(y)] = 1\n",
    "\n",
    "    res.append(scenario)\n",
    "    \n",
    "df = pd.DataFrame(res)"
   ]
  },
  {
   "cell_type": "code",
   "execution_count": null,
   "id": "1f4aea34-1dd5-456f-b060-8389084948f8",
   "metadata": {},
   "outputs": [
    {
     "data": {
      "text/html": [
       "<div>\n",
       "<style scoped>\n",
       "    .dataframe tbody tr th:only-of-type {\n",
       "        vertical-align: middle;\n",
       "    }\n",
       "\n",
       "    .dataframe tbody tr th {\n",
       "        vertical-align: top;\n",
       "    }\n",
       "\n",
       "    .dataframe thead th {\n",
       "        text-align: right;\n",
       "    }\n",
       "</style>\n",
       "<table border=\"1\" class=\"dataframe\">\n",
       "  <thead>\n",
       "    <tr style=\"text-align: right;\">\n",
       "      <th></th>\n",
       "      <th>x</th>\n",
       "      <th>z1</th>\n",
       "      <th>z2</th>\n",
       "      <th>z3</th>\n",
       "      <th>z4</th>\n",
       "      <th>z5</th>\n",
       "      <th>z6</th>\n",
       "      <th>z7</th>\n",
       "      <th>z8</th>\n",
       "      <th>z9</th>\n",
       "      <th>z10</th>\n",
       "    </tr>\n",
       "  </thead>\n",
       "  <tbody>\n",
       "    <tr>\n",
       "      <th>0</th>\n",
       "      <td>1</td>\n",
       "      <td>0</td>\n",
       "      <td>0</td>\n",
       "      <td>0</td>\n",
       "      <td>0</td>\n",
       "      <td>0</td>\n",
       "      <td>0</td>\n",
       "      <td>1</td>\n",
       "      <td>0</td>\n",
       "      <td>0</td>\n",
       "      <td>0</td>\n",
       "    </tr>\n",
       "    <tr>\n",
       "      <th>1</th>\n",
       "      <td>1</td>\n",
       "      <td>0</td>\n",
       "      <td>0</td>\n",
       "      <td>0</td>\n",
       "      <td>1</td>\n",
       "      <td>0</td>\n",
       "      <td>0</td>\n",
       "      <td>0</td>\n",
       "      <td>0</td>\n",
       "      <td>0</td>\n",
       "      <td>0</td>\n",
       "    </tr>\n",
       "    <tr>\n",
       "      <th>2</th>\n",
       "      <td>1</td>\n",
       "      <td>0</td>\n",
       "      <td>1</td>\n",
       "      <td>0</td>\n",
       "      <td>0</td>\n",
       "      <td>0</td>\n",
       "      <td>0</td>\n",
       "      <td>0</td>\n",
       "      <td>0</td>\n",
       "      <td>0</td>\n",
       "      <td>0</td>\n",
       "    </tr>\n",
       "    <tr>\n",
       "      <th>3</th>\n",
       "      <td>1</td>\n",
       "      <td>0</td>\n",
       "      <td>0</td>\n",
       "      <td>0</td>\n",
       "      <td>0</td>\n",
       "      <td>1</td>\n",
       "      <td>0</td>\n",
       "      <td>0</td>\n",
       "      <td>0</td>\n",
       "      <td>0</td>\n",
       "      <td>0</td>\n",
       "    </tr>\n",
       "    <tr>\n",
       "      <th>4</th>\n",
       "      <td>1</td>\n",
       "      <td>0</td>\n",
       "      <td>0</td>\n",
       "      <td>0</td>\n",
       "      <td>0</td>\n",
       "      <td>0</td>\n",
       "      <td>0</td>\n",
       "      <td>0</td>\n",
       "      <td>0</td>\n",
       "      <td>0</td>\n",
       "      <td>1</td>\n",
       "    </tr>\n",
       "    <tr>\n",
       "      <th>5</th>\n",
       "      <td>0</td>\n",
       "      <td>0</td>\n",
       "      <td>0</td>\n",
       "      <td>0</td>\n",
       "      <td>0</td>\n",
       "      <td>0</td>\n",
       "      <td>0</td>\n",
       "      <td>0</td>\n",
       "      <td>0</td>\n",
       "      <td>0</td>\n",
       "      <td>0</td>\n",
       "    </tr>\n",
       "    <tr>\n",
       "      <th>6</th>\n",
       "      <td>1</td>\n",
       "      <td>1</td>\n",
       "      <td>0</td>\n",
       "      <td>0</td>\n",
       "      <td>0</td>\n",
       "      <td>0</td>\n",
       "      <td>0</td>\n",
       "      <td>0</td>\n",
       "      <td>0</td>\n",
       "      <td>0</td>\n",
       "      <td>0</td>\n",
       "    </tr>\n",
       "    <tr>\n",
       "      <th>7</th>\n",
       "      <td>1</td>\n",
       "      <td>1</td>\n",
       "      <td>0</td>\n",
       "      <td>0</td>\n",
       "      <td>0</td>\n",
       "      <td>0</td>\n",
       "      <td>0</td>\n",
       "      <td>0</td>\n",
       "      <td>0</td>\n",
       "      <td>0</td>\n",
       "      <td>0</td>\n",
       "    </tr>\n",
       "    <tr>\n",
       "      <th>8</th>\n",
       "      <td>1</td>\n",
       "      <td>1</td>\n",
       "      <td>0</td>\n",
       "      <td>0</td>\n",
       "      <td>0</td>\n",
       "      <td>0</td>\n",
       "      <td>0</td>\n",
       "      <td>0</td>\n",
       "      <td>0</td>\n",
       "      <td>0</td>\n",
       "      <td>0</td>\n",
       "    </tr>\n",
       "    <tr>\n",
       "      <th>9</th>\n",
       "      <td>0</td>\n",
       "      <td>0</td>\n",
       "      <td>0</td>\n",
       "      <td>0</td>\n",
       "      <td>0</td>\n",
       "      <td>0</td>\n",
       "      <td>0</td>\n",
       "      <td>0</td>\n",
       "      <td>0</td>\n",
       "      <td>0</td>\n",
       "      <td>0</td>\n",
       "    </tr>\n",
       "  </tbody>\n",
       "</table>\n",
       "</div>"
      ],
      "text/plain": [
       "   x  z1  z2  z3  z4  z5  z6  z7  z8  z9  z10\n",
       "0  1   0   0   0   0   0   0   1   0   0    0\n",
       "1  1   0   0   0   1   0   0   0   0   0    0\n",
       "2  1   0   1   0   0   0   0   0   0   0    0\n",
       "3  1   0   0   0   0   1   0   0   0   0    0\n",
       "4  1   0   0   0   0   0   0   0   0   0    1\n",
       "5  0   0   0   0   0   0   0   0   0   0    0\n",
       "6  1   1   0   0   0   0   0   0   0   0    0\n",
       "7  1   1   0   0   0   0   0   0   0   0    0\n",
       "8  1   1   0   0   0   0   0   0   0   0    0\n",
       "9  0   0   0   0   0   0   0   0   0   0    0"
      ]
     },
     "execution_count": 77,
     "metadata": {},
     "output_type": "execute_result"
    }
   ],
   "source": [
    "df.head(10)"
   ]
  },
  {
   "cell_type": "code",
   "execution_count": null,
   "id": "82ef08e6-1393-4ac2-9c2d-1eaf5fc55ae0",
   "metadata": {},
   "outputs": [
    {
     "data": {
      "text/plain": [
       "[0.5,\n",
       " 0.4775411218894981,\n",
       " 0.45236516357206014,\n",
       " 0.4184954817509682,\n",
       " 0.38362980470207736,\n",
       " 0.34248938428874737,\n",
       " 0.28970756880733944,\n",
       " 0.23320953265242958,\n",
       " 0.1680658159838818,\n",
       " 0.08898694612980328,\n",
       " 0.0]"
      ]
     },
     "execution_count": 86,
     "metadata": {},
     "output_type": "execute_result"
    },
    {
     "data": {
      "image/png": "[encoded data removed]",
      "text/plain": [
       "<Figure size 432x288 with 1 Axes>"
      ]
     },
     "metadata": {
      "needs_background": "light"
     },
     "output_type": "display_data"
    }
   ],
   "source": [
    "#Now, compute the probabilities\n",
    "p = [0.5] #=P(X=1|Y=y), y is the index\n",
    "\n",
    "for y in range(1,11):\n",
    "    temp = df\n",
    "    for i in range(1,y+1):\n",
    "        temp = temp.loc[temp[\"z\"+str(i)] == 0,:]\n",
    "    Ny = len(temp) #All possible scenarios\n",
    "    Ns = len(temp[temp[\"x\"]==1]) #All where the bag arrives\n",
    "    p.append(Ns/Ny)\n",
    "    \n",
    "plt.bar(list(range(0,11)),p)\n",
    "p"
   ]
  },
  {
   "cell_type": "markdown",
   "id": "a49af55f-d1b4-40b1-b7d9-21db08a19dda",
   "metadata": {},
   "source": [
    "As you wait longer and longer, things start to look worse..."
   ]
  },
  {
   "cell_type": "markdown",
   "id": "f99440e0-e6d4-4b81-a3e5-cf7b1ead730a",
   "metadata": {},
   "source": [
    "## Homework\n",
    "\n",
    "### Joint pmfs\n",
    "\n",
    "1. Suppose we draw 2 balls out of an urn with 8 red, 6 blue and 4 green balls. Let $X$ be the number of red balls we get and $Y$ be the number of blue balls. (a) Find the joint distribution of $X$ and $Y$. (b) Find the marginal distribution of $X$.\n",
    "\n",
    "2. Suppose $P(X=x,Y=y) = c(x+y)$ for $x,y = 0,1,2,3$. (a) Which value of $c$ makes this a probability mass function? (b) Find $P(X>Y)$.\n",
    "\n",
    "### Conditional Expectation\n",
    "3. Suppose we roll a die to get a number and then flip a coin that number of times. Find the expected number of Heads.\n",
    "\n",
    "### Covariance and Correlation\n",
    "4. Suppose $X$ takes on the values -2, -1, 0, 1, 2 with probability 0.2 each. Let $Y=X^2$. (a) Find COV(X,Y), (b) CORR(X,Y), (c) Are X and Y independent?"
   ]
  },
  {
   "cell_type": "code",
   "execution_count": null,
   "id": "c45239c4-635c-4dbc-81ba-c0272d412779",
   "metadata": {},
   "outputs": [
    {
     "name": "stdout",
     "output_type": "stream",
     "text": [
      "Expected number of heads = 1.747863\n"
     ]
    }
   ],
   "source": [
    "N = 1000000\n",
    "d1 = np.random.choice(range(1, 7), size=N, replace=True) \n",
    "num_heads = 0\n",
    "for i in range(len(d1)):\n",
    "    coin = np.random.choice(range(0, 2), size=d1[i], replace=True) \n",
    "    num_heads += np.count_nonzero(coin)\n",
    "\n",
    "print(f\"Expected number of heads = {num_heads/N}\")\n",
    "    "
   ]
  }
 ],
 "metadata": {
  "kernelspec": {
   "display_name": "Python 3 (ipykernel)",
   "language": "python",
   "name": "python3"
  },
  "language_info": {
   "codemirror_mode": {
    "name": "ipython",
    "version": 3
   },
   "file_extension": ".py",
   "mimetype": "text/x-python",
   "name": "python",
   "nbconvert_exporter": "python",
   "pygments_lexer": "ipython3",
   "version": "3.11.2"
  }
 },
 "nbformat": 4,
 "nbformat_minor": 5
}
