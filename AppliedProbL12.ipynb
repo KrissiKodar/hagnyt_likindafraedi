{
 "cells": [
  {
   "cell_type": "markdown",
   "id": "dcdd316e-707d-47cc-9830-986c329b0fe1",
   "metadata": {},
   "source": [
    "# Lecture 12 - Reliability Theory\n",
    "\n",
    "## L12.1 Systems and components\n",
    "\n",
    "Reliability theory revolves around a system of several components and the probability that the system functions and fails. The components are arranged in some graph, e.g., 4 serial components:\n",
    "\n",
    "----x-----x-----x-----x----\n",
    "\n",
    "You can think of, e.g., a plant manifacturing a product with 4 machines. The components are assumed to be independent. In the case of serial graph, the failure of one component results in the failure of the entire system.\n",
    "\n",
    "One can also imagine a parallel graph, which introduced redundancy. If one component fails in that system, then some other component will pick it up. The only way for the system to fail is if all components fail.\n",
    "\n",
    "We will look into different structures and how they depend on the arrangements of the graphs, and then look into the probabilities of failures. These probabilities can be challenging to calculate explicitly, but relatively straight forward to simulate (just flip a few coints).\n",
    "\n",
    "## L12.2 Structure functions\n",
    "\n",
    "We will work with systems of $n$ components where each component is either functioning or has failed. The indicator $x_i$ is 1 if the $i$th component is functioning and 0 if it has failed. The system is then characterized by the state vector $x = (x_1, x_2, ..., x_n)$, indicating which components are functioning and which have failed. We then define the *structure function* of the system, $\\phi(x)$ which is 1 if the system is functioning but 0 if the system has failed.\n",
    "\n",
    "In the case of the serial structure, the structure function can be written as\n",
    "\n",
    "$$\\phi(x) = min(x_1, x_2, ..., x_n) = \\prod_{i=1}^n{x_i}$$\n",
    "\n",
    "The parallel system has structure function\n",
    "\n",
    "$$\\phi(x) = max(x_1, x_2, ..., x_n) = 1 - \\prod_{i=1}^n{(1-x_i)}$$\n",
    "\n",
    "It's good to take a look at what this means for two components and convince oneself that the two are the same.\n",
    "\n",
    "$$\\phi(x) = 1 - (1-x_1)(1-x_2)$$\n",
    "\n",
    "This is sometimes written as\n",
    "\n",
    "$$\\phi(x) = 1 - (1-x_1)(1-x_2) = x_1 \\amalg x_2$$\n",
    "\n",
    "and in general, for $n$ components, \n",
    "\n",
    "$$\\phi(x) =  x_1 \\amalg x_2 \\amalg x_3 \\amalg ... \\amalg x_n = \\amalg_{i=1}^n{x_i}$$\n",
    "\n",
    "The up-side-down $\\pi$ ($\\amalg$) can be used whenever we have parallel element in the structure.\n",
    "\n",
    "Another system type is called $k$ out of $n$, where the system works if, and only if, $k$ components out of the $n$ are functioning (just any $k$ components need to be functioning, and then the system is working). This can be drawn up  where each combinations of $k$ components are drawn as a series, and then all series drawn in parallel (e.g. 2 out of 3).\n",
    "\n",
    "The structure function in this case is 1 if $\\sum_{i=1}^n{x_i} \\ge k$ and 0 if the sum is less than $k$.\n",
    "\n",
    "We can also express the structure function as follows:\n",
    "\n",
    "$$\\phi(x) = x_1x_2 \\amalg x_1x_3 \\amalg x_2x_3 = 1 - (1-x_1x_2)(1-x_1x_3)(1-x_2x_3).$$\n",
    "\n",
    "Another example is when we have components 1 and 2 in series, and then, following 2, we get a parallel component of 3 and 4. The system will thus fail if 1 *or* 2 fails, or if 3 *and* 4 fails. The structure function in this case is\n",
    "\n",
    "$$\\phi(x) = x_1x_2\\max(x_3,x_4)$$\n",
    "\n",
    "or\n",
    "\n",
    "$$\\phi(x) = x_1x_2(x_3 \\amalg x4) = x_1x_2(1-(1-x_3)(1-x_4)) = x_1x_2(x_3 + x_4 - x_3x_4)$$\n",
    "\n",
    "a system can also have irrelevant components, e.g., if we have a parallel structure with component 1 on the top and components 1 and 2 in the bottom. In this case, component 2 is irrelevant since in either case, component 1 needs to be functioning. The structure function is just $\\phi(x) = x_1$, which can also be derived directly using our the method for constructing structure functions."
   ]
  },
  {
   "cell_type": "markdown",
   "id": "f90d9704-347f-46b7-858f-e8f387ae2fc3",
   "metadata": {},
   "source": [
    "## L12.3 Reliability of a system\n",
    "\n",
    "We assume that each component $i$ behaves like a Bernoulli random variable with probability $p_i$ of functioning and probability $1-p_i$ of failing, and that all components are independent.\n",
    "\n",
    "The *reliability* of a system is simply the probability that the whole system is up and running, i.e.,\n",
    "\n",
    "$$r = P(\\phi(x) = 1)$$\n",
    "\n",
    "where, as before, $x = (x_1, x_2, ..., x_n)$. Using our assumption that all components are independent Bernoullies, we see that the reliability is just a function of $p = (p_1, p_2, ..., p_n)$, $r = r(p)$.\n",
    "\n",
    "Let's take a look at couple of systems.\n",
    "\n",
    "The serial system has the following reliability function\n",
    "$$r(p) = P(\\phi(x) = 1) = P\\left( \\prod_{i=1}^n{X_i} = 1 \\right) = \\prod_{i=1}^n{p_i}$$\n",
    "\n",
    "The parallel system has the following reliability function\n",
    "$$r(p) = P(\\phi(x) = 1) = P(X_i = 1 \\text{ for some } i=1, ..n) = 1 - P(X_i = 0 \\text{ for all } i=1, ..n) = 1 - \\prod_{i=1}^n{(1-p_i)} = \\amalg_{i=1}^n{p_i}$$\n",
    "\n",
    "The $k$ out of $n$ system has the following reliability function\n",
    "\n",
    "$$r(p) = P(\\phi(x) = 1) = P\\left( \\sum_{i=1}^n{X_i} \\ge k \\right) = \\sum_{i=k}^n{{n \\brack i}p^i(1-p)^{n-i}}$$\n",
    "\n",
    "It is sometimes to useful to use the following. The $\\phi(x)$ only takes on the values of 0 and 1, so \n",
    "\n",
    "$$E[\\phi(x)] = 1*P(\\phi(x)=1) + 0*P(\\phi(x)=0) = r(p)$$\n",
    "\n",
    "For example, the 4 component system we had before is $$\\phi(x) = x_1x_2\\max(x_3,x_4)$$ and thus\n",
    "\n",
    "$$r(p) = E[\\phi(x)] = E[X_1X_2\\max(X_3,X_4)] = E[X_1X_2(1-(1-X_3)(1-X_4))] = p_1p_2(1-(1-p_3)(1-p_4))$$\n",
    "\n",
    "This demostrates that we may need to use tricks in order to estimate the reliability function."
   ]
  },
  {
   "cell_type": "code",
   "execution_count": 1,
   "id": "b0465fb2-fe15-4c36-8a32-055c9567c94f",
   "metadata": {},
   "outputs": [
    {
     "name": "stdout",
     "output_type": "stream",
     "text": [
      "Simulated distribution:\n",
      "Probability of functioning:  0.496\n",
      "Probability of failing:  0.504\n",
      "\n",
      "Theoretical distribution:\n",
      "Probability of functioning:  0.49279999999999996\n",
      "Probability of failing:  0.5072000000000001\n"
     ]
    }
   ],
   "source": [
    "import numpy as np\n",
    "\n",
    "p1 = 0.7\n",
    "p2 = 0.8\n",
    "p3 = 0.7\n",
    "p4 = 0.6\n",
    "\n",
    "N = 10000\n",
    "\n",
    "def phi(x1,x2,x3,x4):\n",
    "    return x1*x2*max(x3,x4)\n",
    "\n",
    "ones = 0\n",
    "for i in range(N):\n",
    "    x1 = np.random.choice([0,1], p=[1-p1,p1])\n",
    "    x2 = np.random.choice([0,1], p=[1-p2,p2])\n",
    "    x3 = np.random.choice([0,1], p=[1-p3,p3])\n",
    "    x4 = np.random.choice([0,1], p=[1-p4,p4])\n",
    "    if phi(x1,x2,x3,x4) == 1:\n",
    "        ones += 1\n",
    "\n",
    "print(\"Simulated distribution:\")\n",
    "print(\"Probability of functioning: \",ones/N) \n",
    "print(\"Probability of failing: \",1 - ones/N) \n",
    "print()\n",
    "print(\"Theoretical distribution:\")\n",
    "p = p1*p2*(1 - (1-p3)*(1-p4))\n",
    "print(\"Probability of functioning: \",p) \n",
    "print(\"Probability of failing: \",1 - p) "
   ]
  },
  {
   "cell_type": "markdown",
   "id": "c8da6159-0da1-454d-8473-12b7f64d1eb1",
   "metadata": {
    "tags": []
   },
   "source": [
    "## L12.4 System and life and expected system life\n",
    "\n",
    "We now add some considerations for time, i.e., how long will the system be functioning before a critical component fails, causing the failure of the whole system. The first question we want to answer is how to express the distribution of the system lifetime in terms of the system reliability function, $r(p)$. Before we go there, we need to define some terminology.\n",
    "\n",
    "In this context is it convenient to define $\\bar{F}(t) = 1 - F(t)$ so that if $F(t) = P(T \\le t)$ is a cumulative distribution function of a random variable $T$, then $\\bar{F}(t) = P(T > t)$. In this context, we are interested in \n",
    "\n",
    "$$\\bar{F}(t) = P(\\text{system life} > t) = P(\\text{system is functioning at time t})$$\n",
    "\n",
    "Let's define the random variables $T_i$ as the lifetimes of components $i=1, ..,n $, meaning their time of failure, and $\\bar{F}_i(t) =P(T_i>t)$. Similarly, we let $T$ without a subscript, be the lifetime of the system as a whole.\n",
    "\n",
    "By definition, the reliability of a system, $r(p)$, is the probability that the system is functioning. Thus, \n",
    "\n",
    "$$P(\\text{system is functioning at time t}) = \\bar{F}(t) = r(\\bar{F}_1(t), ..., \\bar{F}_n(t)).$$\n",
    "\n",
    "Let's look at an example of a serial system. \n",
    "\n",
    "In this case, $r(p) = \\prod_{i=1}^n{p_i}$, and so\n",
    "\n",
    "$$\\bar{F}(t) = r(\\bar{F}_1(t), ..., \\bar{F}_n(t)) = \\prod_{i=1}^n{\\bar{F}_i(t)}$$\n",
    "\n",
    "Let's explore this in a little more detail. We defined $X_i$ as the indicator of component $i$. If $X_i = 1$, the component is functioning, and 0 if the component has failed. Now, the $X_i$ is a function of time $X_i(t)$, indicating the status of the component at time $t$. The status is 1 if $T>t$, i.e., the component has not failed, and 0 if $T \\le t$. The probability that the system is functioning at time $t$ is thus \n",
    "\n",
    "$$r(p(t)) = \\prod_{i=1}^n{p_i(t)} = \\prod_{i=1}^n{P(T_i>t)} = \\prod_{i=1}^n{\\bar{F}_i(t)}.$$\n",
    "\n",
    "Similarly, for a parallel system,\n",
    "\n",
    "$$r(p(t)) = 1 -  \\prod_{i=1}^n{(1 - p_i(t))} = 1 -  \\prod_{i=1}^n{F_i(t)}$$\n",
    "\n",
    "Notice that there is no bar on the F in this last expression.\n",
    "\n",
    "We have thus far not said anything about the distribution of the lifetimes of the components, but this is a key consideration when looking into the lifetime of the system.\n",
    "\n",
    "Let's take a look a few examples.\n",
    "\n",
    "The simplest assumption is to assume an exponential failure time of each component, i.e., \n",
    "\n",
    "$$F_i(t) = 1 - e^{-\\lambda_i t}$$\n",
    "\n",
    "for some positive constants $\\lambda_i$. This means that \n",
    "\n",
    "$$\\bar{F}_i(t) = e^{-\\lambda_i t}$$\n",
    "\n",
    "and we have a tractable analytic distribution for, e.g., serial system:\n",
    "\n",
    "$$r(p(t)) =\\prod_{i=1}^n{\\bar{F}_i(t)} = e^{-t \\sum_{i=0}^n{\\lambda_i}}$$\n",
    "\n",
    "i.e., the lifetime of the system itself is also exponentially distributed.\n",
    "\n",
    "This is not the case for a parallel system, but here we have\n",
    "\n",
    "$$r(p(t)) =1 -  \\prod_{i=1}^n{F_i(t)} = 1 -  \\prod_{i=1}^n{(1 -  e^{-\\lambda_i t})}$$\n",
    "\n",
    "which is less tractable from an analytic point of view (a mixture density).\n",
    "\n",
    "We can introduce the failure rate function, or failure intensity at time $t$ as\n",
    "\n",
    "$$\\lambda(t) = \\frac{f(t)}{\\bar{F}(t)}$$\n",
    "\n",
    "where $f$ is the pdf of the failure time $T$ and $F$ is the cdf of $T$. This is the probability intensity that a $t$ year system will fail. If this is an increasing function of time, then the probability of failure will increase in time (e.g., machines may wear out as time increases), while a decreasing function of time means that the probability of failure is higher in the early times. \n",
    "\n",
    "For an exponential distribution, $\\lambda$ is just constant since $f(t) = \\lambda e^{-\\lambda t}$.\n",
    "\n",
    "There are couple of other common interarrival time distributions that are used in practice, and let's take a look at those.\n",
    "\n",
    "First is the Weibull distribution:\n",
    "\n",
    "$$F(t) = 1 - e^{-(\\lambda t)^{\\alpha}}$$\n",
    "\n",
    "where $\\lambda > 0$ and $\\alpha > 0$.\n",
    "\n",
    "Let's look a plot of the Weibull pdf."
   ]
  },
  {
   "cell_type": "code",
   "execution_count": 2,
   "id": "25ef063a-97ba-4f8b-a153-074bd795f056",
   "metadata": {},
   "outputs": [
    {
     "data": {
      "image/png": "[encoded data removed]",
      "text/plain": [
       "<Figure size 640x480 with 1 Axes>"
      ]
     },
     "metadata": {},
     "output_type": "display_data"
    }
   ],
   "source": [
    "%matplotlib inline\n",
    "import numpy as np\n",
    "import matplotlib.pyplot as plt\n",
    "\n",
    "x= np.linspace(0.1,2.5, 100)\n",
    "\n",
    "lambda_ = 1\n",
    "alpha = [0.5, 1, 1.5, 5]\n",
    "colors = [\"red\",\"green\",\"blue\",\"orange\"]\n",
    "for c,a in zip(colors,alpha):\n",
    "    pdf = a*lambda_*(x*lambda_)**(a-1)*np.exp(-(x*lambda_)**a)\n",
    "    plt.plot(x,pdf,color=c)"
   ]
  },
  {
   "cell_type": "markdown",
   "id": "f1a5a963-0e14-4169-8ad7-6b5b767dc94c",
   "metadata": {},
   "source": [
    "The failure rate of a Weibull distribution is\n",
    "\n",
    "$$ \\lambda(t) = \\frac{e^{-(\\lambda t)^{\\alpha}}\\alpha \\lambda (\\lambda t)^{\\alpha-1}}{e^{-(\\lambda t)^{\\alpha}}} = \\alpha \\lambda (\\lambda t)^{\\alpha-1}$$ \n",
    "\n",
    "which is an increasing function of time, meaning that the failure rate is increasing, if $\\alpha > 1$, i.e., it is more likely that the system will fail as time goes on, but decreasing if $\\alpha < 1$.\n",
    "\n",
    "Another common distribution for the failure times is the gamma distribution, but's its distribution is a bit more complicated. It too can show both increasing and decreasing failure rate, depending on the choice of parameters.\n",
    "\n",
    "Let's move on the expected life time of a system. The expected lifetime of a system can be determined from the reliability function, but the simplest way to find the expected lifetime is to perform a Monte Carlo simulation. This way, we can explore complicted systems with complicated lifetime distributions, and even dependency between components, and not only the expected lifetime but the distribution of the lifetime (e.g., we may want to ensure that there is at least 95% probability that the system is functioning after some specific time). Analytical approaches only work for very simple systems with simple lifetime distributions.\n",
    "\n",
    "In order to calculate the expected lifetime, we can use the following general formula (applies in all situations) for the expectation of a non-negative random variable $X$:\n",
    "\n",
    "$$E[X] = \\int_0^{\\infty}{P(X > x) dx}$$\n",
    "\n",
    "To see that this is the case, we can use that $P(X > x) = 1 - F(x)$, $dF/dx = f$, and the following trick:\n",
    "\n",
    "$$\\int_0^{\\infty}{P(X > x) dx} = \\int_0^{\\infty}{(1 - F(x)) dx} = \\int_0^{\\infty}{1 -  \\left(\\int_0^{x} {f(y)dy}\\right) dx} =  \\int_0^{\\infty}{\\int_x^{\\infty} {f(y)dy} dx} = \\int_0^{\\infty}{\\int_0^{y} {f(y)dx} dy} = \\int_0^{\\infty}{yf(y)dy} = E[X]$$\n",
    "\n",
    "where we switched the order of the integration (in the next to last equality on the upper line, we can imagine fixing an x, and the y then goes from from x to $\\infty$, but in the last equality, we fix y and let x go from 0 to y - this coves the same region).\n",
    "\n",
    "Since $r(p) = P(X>x)$, we have a formula for the expected lifetime of a system:\n",
    "\n",
    "$$E[T] = \\int_0^{\\infty}{r(F_i(t)) dt}.$$\n",
    "\n",
    "Let's consider a simple situation of a serial system with exponential lifetimes. Suppose we have 10 components, each with a parameter $\\lambda_i = 1$, i.e., the expected lifetime of each component is 1. The system will fail if one of these components fails, so what is the expected lifetime of the system?\n",
    "\n",
    "\n",
    "$$E[T] = \\int_0^{\\infty}{r(F_i(t)) dt} = \\int_0^{\\infty}{e^{-10t}dt} = 1/10$$\n",
    "\n",
    "Let's do this one using Monte Carlo simulations as well."
   ]
  },
  {
   "cell_type": "code",
   "execution_count": 3,
   "id": "87a82272-3c47-4243-98c3-539919b5dc72",
   "metadata": {},
   "outputs": [
    {
     "name": "stdout",
     "output_type": "stream",
     "text": [
      "Average lifetime:  0.09994800386934485\n"
     ]
    }
   ],
   "source": [
    "#Simulate the lifetime of a serial system\n",
    "\n",
    "import numpy as np\n",
    "\n",
    "N = 10000\n",
    "lambda_ = 1 #Of each component\n",
    "\n",
    "lifetimes = [] #samples of lifetimes for the system\n",
    "for i in range(N):\n",
    "    components = np.random.exponential(scale=1/lambda_, size=10) #10 lifetimes, one for each component\n",
    "    system_lifetime = min(components) #First to fail will fail the system\n",
    "    lifetimes.append(system_lifetime)\n",
    "\n",
    "print(\"Average lifetime: \", sum(lifetimes)/N)"
   ]
  },
  {
   "cell_type": "markdown",
   "id": "a51b8b27-32ae-4657-8702-49eff408fecf",
   "metadata": {},
   "source": [
    "Let's consider one more example, the four component system we had before (two in serial and then two in parallel). If we assume that the lifetime of the components are uniformly distributed in (0,i) for i = 1, 2, 3, 4. A very simple structure. With some algebra, one can show that the expected lifetime of the system is approximately 0.41. Let's do this one with a naive Monte Carlo (not using the structure function, which can also be done)."
   ]
  },
  {
   "cell_type": "code",
   "execution_count": 4,
   "id": "3c849ce4-3ba9-4231-9df3-eea029d7660c",
   "metadata": {},
   "outputs": [
    {
     "name": "stdout",
     "output_type": "stream",
     "text": [
      "Average lifetime:  0.41189857121770074\n"
     ]
    }
   ],
   "source": [
    "N = 10000\n",
    "\n",
    "lifetimes = [] #samples of lifetimes for the system\n",
    "for i in range(N):\n",
    "    #The lifetime of the components\n",
    "    t1 = np.random.uniform(0,1)\n",
    "    t2 = np.random.uniform(0,2)\n",
    "    t3 = np.random.uniform(0,3)\n",
    "    t4 = np.random.uniform(0,4)\n",
    "    #First, check the failure time of the parallel structure:\n",
    "    t34 = max(t3,t4)\n",
    "    #Then, the remaining serial structure (parallel converted to serial)\n",
    "    lifetimes.append(min(t1,t2,t34))\n",
    "    \n",
    "\n",
    "print(\"Average lifetime: \", sum(lifetimes)/N)"
   ]
  },
  {
   "cell_type": "markdown",
   "id": "a752d13e-ace8-4171-8183-21739a9cf4ae",
   "metadata": {},
   "source": [
    "Hopefully this will convince you that using Monte Carlo is much, much simpler and can handle more powerful distributions than performing algebraic manipulations.\n",
    "\n",
    "We can also consider other more complicated situations, such as a situation where a component can be repaired. In this case, we end up with a Markov chain for the system -  a continuous time Markow chain, with two states, either functioning or failing."
   ]
  },
  {
   "cell_type": "markdown",
   "id": "18b9b9a0-4f7f-4b2f-ac06-9cd6d3757b5e",
   "metadata": {},
   "source": [
    "## Homework\n",
    "\n",
    "1. Write the structure function for the following system: First we have a parallel structure with two branhes. Component 1 is on the top branch, but the lower branch has two components in serial - components 2 and 3. Then, after the parallel structure, we have a single component, 4 linked to the parallel structure in serial way.\n",
    "\n",
    "2. Consider a system with two components, each with an exponential lifetime. Find the expected lifetime if\n",
    "a) The system is serial\n",
    "b) The system is parallel\n",
    "\n",
    "Feel free to use Monte Carlo in 2."
   ]
  },
  {
   "cell_type": "code",
   "execution_count": 136,
   "id": "cb96d591-eb77-4e95-88ba-310a40ed72c4",
   "metadata": {},
   "outputs": [
    {
     "name": "stdout",
     "output_type": "stream",
     "text": [
      "Average lifetime:  [0.49615154]\n"
     ]
    }
   ],
   "source": [
    "#Simulate the lifetime of a serial system\n",
    "\n",
    "import numpy as np\n",
    "\n",
    "N = 10000\n",
    "lambda1 = 1 #Of each component\n",
    "lambda2 = 1 #Of each component\n",
    "lifetimes = [] #samples of lifetimes for the system\n",
    "for i in range(N):    \n",
    "    comp1 = np.random.exponential(scale=1/lambda1, size = 1)\n",
    "    comp2 = np.random.exponential(scale=1/lambda2, size = 1)\n",
    "    system_lifetime = min(comp1, comp2) #First to fail will fail the system\n",
    "    lifetimes.append(system_lifetime)\n",
    "\n",
    "print(\"Average lifetime: \", sum(lifetimes)/N)"
   ]
  },
  {
   "cell_type": "code",
   "execution_count": 143,
   "metadata": {},
   "outputs": [
    {
     "name": "stdout",
     "output_type": "stream",
     "text": [
      "Average lifetime:  [1.03025357]\n"
     ]
    }
   ],
   "source": [
    "#Simulate the lifetime of a parallel system\n",
    "\n",
    "import numpy as np\n",
    "\n",
    "N = 100000\n",
    "lambda1 = 1 #Of each component\n",
    "lambda2 = 5 #Of each component\n",
    "lifetimes = [] #samples of lifetimes for the system\n",
    "for i in range(N):    \n",
    "    comp1 = np.random.exponential(scale=1/lambda1, size = 1)\n",
    "    comp2 = np.random.exponential(scale=1/lambda2, size = 1)\n",
    "    system_lifetime = max(comp1, comp2) #last system to fail will fail the total system\n",
    "    lifetimes.append(system_lifetime)\n",
    "\n",
    "print(\"Average lifetime: \", sum(lifetimes)/N)"
   ]
  }
 ],
 "metadata": {
  "kernelspec": {
   "display_name": "Python 3 (ipykernel)",
   "language": "python",
   "name": "python3"
  },
  "language_info": {
   "codemirror_mode": {
    "name": "ipython",
    "version": 3
   },
   "file_extension": ".py",
   "mimetype": "text/x-python",
   "name": "python",
   "nbconvert_exporter": "python",
   "pygments_lexer": "ipython3",
   "version": "3.11.2"
  }
 },
 "nbformat": 4,
 "nbformat_minor": 5
}
