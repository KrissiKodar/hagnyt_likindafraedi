{
 "cells": [
  {
   "cell_type": "markdown",
   "id": "421b70ca-99fb-46f4-8f5c-85e4c221f6ce",
   "metadata": {},
   "source": [
    "# Lecture 10 - Markov Chains\n",
    "\n",
    "## L10.1 Discrete time Markov chains\n",
    "\n",
    "We will go through a very brief introduction of discrete, finite state Markov chains. They are highly practical and can be used to describe a large number of physical, biological, economical and social phenomena.\n",
    "\n",
    "Let´s start with the famous example of the Gamler´s ruin.\n",
    "\n",
    "Consider a game in which on any turn you win \\\\$1 with probability $p=0.4$ or lose \\\\$1 with probability $1-p=0.6$. Also assume that you quit if your fortune reaches \\\\$N, and of course, also if you fortune reaches \\\\$0 (broke).\n",
    "\n",
    "Let $X_n$ be the amount you have after playing the game $n$ times. Your fortune satisfies the so called Markov Property - which says that given the current state (your current fortune, $X_n = i$), any other information about the past is irrelevant when it comes to the your next step fortune, $X_{n+1}$.\n",
    "\n",
    "$$P(X_{n+1}=i+1|X_n=i, X_{n-1}=k, ..., X_{0}=j) = P(X_{n+1}=i+1|X_n=i) = 0.4$$\n",
    "\n",
    "We can define a discrete time Markov chain with the transition matrix $p(i,j)$ as\n",
    "\n",
    "$$P(X_{n+1}=j|X_n=i) = p(i,j)$$\n",
    "\n",
    "Here we have assumed that the chain is time homogeneous (the transition probabilities do not change with time).\n",
    "\n",
    "Here is an example: the weather chain. Let $X_n$ be the weather at on day $n$ in Reykjavik, and let's assume it has three possible states: 1 = snowy, 2 = cloudy, 3 = sunny. In reality, the weather is *not* as Markov chain, but it's a good example to play with. Suppose the transition matrix is\n",
    "\n",
    "<table>\n",
    "    <tr><td>0</td><td>1</td><td>2</td><td>3</td></tr>\n",
    "    <tr><td>1</td><td>0.4</td><td>0.6</td><td>0.0</td></tr>\n",
    "    <tr><td>2</td><td>0.2</td><td>0.5</td><td>0.3</td></tr>\n",
    "    <tr><td>3</td><td>0.1</td><td>0.7</td><td>0.2</td></tr>\n",
    "</table>\n",
    "\n",
    "Note that the sum accross a row is always 1. If you start in a state, you must end up in some state.\n",
    "\n",
    "**Exercise:** Write dow the transition matrix for the gambler's ruin when $N=5$."
   ]
  },
  {
   "cell_type": "markdown",
   "id": "9cc0d080-7534-4de3-94f2-b84ab013063d",
   "metadata": {},
   "source": [
    "## L10.2 The Chapman-Kolmogorov equations\n",
    "\n",
    "The transition probabilities we have covered so far refer to one step transitions, but how about $m$ step transitions? We can define the $m$ step transition probability as\n",
    "\n",
    "$$p^m(i,j) = P(X_{n+m}=j|X_n = i)$$\n",
    "\n",
    "Let's look the weather chain and suppose today is cloudy (2), and we want to know the probability that tomorrow will be sunny (3) and the following day it will be snowy (1). Intuitively, we expect the answer to be p(2,3)p(3,1), and this is indeed correct:\n",
    "\n",
    "$$P(X_2 = 1, X_1 = 3| X_0 = 2) = \\frac{P(X_2 = 1, X_1 = 3 , X_0 = 2)}{P(X_0 = 2)} = \\frac{P(X_2 = 1, X_1 = 3 , X_0 = 2)}{P(X_1 = 3,X_0 = 2)}\\frac{P(X_1 = 3 , X_0 = 2)}{P(X_0 = 2)} = P(X_2 = 1| X_1 = 3,X_0 = 2)P(X_1 = 3| X_0 = 2)$$\n",
    "\n",
    "Now, we can bypass the middle day and ask what the full probability of it being snowy day after tomorrow if today is cloudy, and the we need to sum over all the middle steps:\n",
    "\n",
    "$$P(X_2 = 1|X_0=2) = \\sum_{k=1}^3{p(2,k)p(k,1)}$$\n",
    "\n",
    "and in this case, the probability is 21%.\n",
    "\n",
    "Note that what we are doing is really matrix multiplication. \n",
    "\n",
    "$$P(X_2 = j|X_0=i) = \\sum_{k=1}^3{p(i,k)p(k,j)}$$\n",
    "\n",
    "This leads to the conclusion that **The $m$ step transition probability is the $m$th power of the transition matrix**.\n",
    "\n",
    "A slighly more general formulation is the **Chapman Kolmogorov's** equation\n",
    "\n",
    "$$p^{m+n}(i,j) = \\sum_k{p^m(i,k)p^n(k,j)}$$\n",
    "\n",
    "These equations become differential equations in continuous time (backwards and forwards Kolmogorov's equations).\n",
    "\n",
    "In order to get the two step probabilities of the a Markov chain, we just multiply the transition matrix with itself.\n",
    "\n",
    "Now, let's return to the gambler's ruin with $N=5$.\n",
    "\n",
    "Let's compute the two step transition probabilities:"
   ]
  },
  {
   "cell_type": "code",
   "execution_count": 1,
   "id": "566d33de-de96-437a-8ffa-5a25f22ed663",
   "metadata": {},
   "outputs": [
    {
     "data": {
      "text/html": [
       "<div>\n",
       "<style scoped>\n",
       "    .dataframe tbody tr th:only-of-type {\n",
       "        vertical-align: middle;\n",
       "    }\n",
       "\n",
       "    .dataframe tbody tr th {\n",
       "        vertical-align: top;\n",
       "    }\n",
       "\n",
       "    .dataframe thead th {\n",
       "        text-align: right;\n",
       "    }\n",
       "</style>\n",
       "<table border=\"1\" class=\"dataframe\">\n",
       "  <thead>\n",
       "    <tr style=\"text-align: right;\">\n",
       "      <th></th>\n",
       "      <th>0</th>\n",
       "      <th>1</th>\n",
       "      <th>2</th>\n",
       "      <th>3</th>\n",
       "      <th>4</th>\n",
       "      <th>5</th>\n",
       "    </tr>\n",
       "  </thead>\n",
       "  <tbody>\n",
       "    <tr>\n",
       "      <th>0</th>\n",
       "      <td>1.00</td>\n",
       "      <td>0.00</td>\n",
       "      <td>0.00</td>\n",
       "      <td>0.00</td>\n",
       "      <td>0.00</td>\n",
       "      <td>0.00</td>\n",
       "    </tr>\n",
       "    <tr>\n",
       "      <th>1</th>\n",
       "      <td>0.60</td>\n",
       "      <td>0.24</td>\n",
       "      <td>0.00</td>\n",
       "      <td>0.16</td>\n",
       "      <td>0.00</td>\n",
       "      <td>0.00</td>\n",
       "    </tr>\n",
       "    <tr>\n",
       "      <th>2</th>\n",
       "      <td>0.36</td>\n",
       "      <td>0.00</td>\n",
       "      <td>0.48</td>\n",
       "      <td>0.00</td>\n",
       "      <td>0.16</td>\n",
       "      <td>0.00</td>\n",
       "    </tr>\n",
       "    <tr>\n",
       "      <th>3</th>\n",
       "      <td>0.00</td>\n",
       "      <td>0.36</td>\n",
       "      <td>0.00</td>\n",
       "      <td>0.48</td>\n",
       "      <td>0.00</td>\n",
       "      <td>0.16</td>\n",
       "    </tr>\n",
       "    <tr>\n",
       "      <th>4</th>\n",
       "      <td>0.00</td>\n",
       "      <td>0.00</td>\n",
       "      <td>0.36</td>\n",
       "      <td>0.00</td>\n",
       "      <td>0.24</td>\n",
       "      <td>0.40</td>\n",
       "    </tr>\n",
       "    <tr>\n",
       "      <th>5</th>\n",
       "      <td>0.00</td>\n",
       "      <td>0.00</td>\n",
       "      <td>0.00</td>\n",
       "      <td>0.00</td>\n",
       "      <td>0.00</td>\n",
       "      <td>1.00</td>\n",
       "    </tr>\n",
       "  </tbody>\n",
       "</table>\n",
       "</div>"
      ],
      "text/plain": [
       "      0     1     2     3     4     5\n",
       "0  1.00  0.00  0.00  0.00  0.00  0.00\n",
       "1  0.60  0.24  0.00  0.16  0.00  0.00\n",
       "2  0.36  0.00  0.48  0.00  0.16  0.00\n",
       "3  0.00  0.36  0.00  0.48  0.00  0.16\n",
       "4  0.00  0.00  0.36  0.00  0.24  0.40\n",
       "5  0.00  0.00  0.00  0.00  0.00  1.00"
      ]
     },
     "execution_count": 1,
     "metadata": {},
     "output_type": "execute_result"
    }
   ],
   "source": [
    "import numpy as np\n",
    "import pandas as pd\n",
    "\n",
    "P = [[1, 0, 0, 0, 0, 0],\n",
    "     [0.6, 0, 0.4, 0, 0, 0],\n",
    "     [0, 0.6, 0, 0.4, 0, 0],\n",
    "     [0, 0, 0.6, 0, 0.4, 0],\n",
    "    [0, 0, 0, 0.6, 0, 0.4],\n",
    "    [0, 0, 0, 0, 0, 1]]\n",
    "\n",
    "res = np.dot(P,P)\n",
    "#Print the result out nicely\n",
    "cols =range(0,6)\n",
    "pd.DataFrame(res, columns=cols, index=cols)"
   ]
  },
  {
   "cell_type": "markdown",
   "id": "40aa3988-0573-4a89-b9f0-db395bbadeb0",
   "metadata": {},
   "source": [
    "and now the 20 step transition probabilities - gives you an idea of where you will end up..."
   ]
  },
  {
   "cell_type": "code",
   "execution_count": 2,
   "id": "f7360bfd-63a5-4649-b228-9714cc25f9b1",
   "metadata": {},
   "outputs": [
    {
     "data": {
      "text/html": [
       "<div>\n",
       "<style scoped>\n",
       "    .dataframe tbody tr th:only-of-type {\n",
       "        vertical-align: middle;\n",
       "    }\n",
       "\n",
       "    .dataframe tbody tr th {\n",
       "        vertical-align: top;\n",
       "    }\n",
       "\n",
       "    .dataframe thead th {\n",
       "        text-align: right;\n",
       "    }\n",
       "</style>\n",
       "<table border=\"1\" class=\"dataframe\">\n",
       "  <thead>\n",
       "    <tr style=\"text-align: right;\">\n",
       "      <th></th>\n",
       "      <th>0</th>\n",
       "      <th>1</th>\n",
       "      <th>2</th>\n",
       "      <th>3</th>\n",
       "      <th>4</th>\n",
       "      <th>5</th>\n",
       "    </tr>\n",
       "  </thead>\n",
       "  <tbody>\n",
       "    <tr>\n",
       "      <th>0</th>\n",
       "      <td>1.000000</td>\n",
       "      <td>0.000000</td>\n",
       "      <td>0.000000</td>\n",
       "      <td>0.000000</td>\n",
       "      <td>0.000000</td>\n",
       "      <td>0.000000</td>\n",
       "    </tr>\n",
       "    <tr>\n",
       "      <th>1</th>\n",
       "      <td>0.919891</td>\n",
       "      <td>0.002651</td>\n",
       "      <td>0.000000</td>\n",
       "      <td>0.002859</td>\n",
       "      <td>0.000000</td>\n",
       "      <td>0.074598</td>\n",
       "    </tr>\n",
       "    <tr>\n",
       "      <th>2</th>\n",
       "      <td>0.803704</td>\n",
       "      <td>0.000000</td>\n",
       "      <td>0.006940</td>\n",
       "      <td>0.000000</td>\n",
       "      <td>0.002859</td>\n",
       "      <td>0.186496</td>\n",
       "    </tr>\n",
       "    <tr>\n",
       "      <th>3</th>\n",
       "      <td>0.629424</td>\n",
       "      <td>0.006434</td>\n",
       "      <td>0.000000</td>\n",
       "      <td>0.006940</td>\n",
       "      <td>0.000000</td>\n",
       "      <td>0.357202</td>\n",
       "    </tr>\n",
       "    <tr>\n",
       "      <th>4</th>\n",
       "      <td>0.377654</td>\n",
       "      <td>0.000000</td>\n",
       "      <td>0.006434</td>\n",
       "      <td>0.000000</td>\n",
       "      <td>0.002651</td>\n",
       "      <td>0.613261</td>\n",
       "    </tr>\n",
       "    <tr>\n",
       "      <th>5</th>\n",
       "      <td>0.000000</td>\n",
       "      <td>0.000000</td>\n",
       "      <td>0.000000</td>\n",
       "      <td>0.000000</td>\n",
       "      <td>0.000000</td>\n",
       "      <td>1.000000</td>\n",
       "    </tr>\n",
       "  </tbody>\n",
       "</table>\n",
       "</div>"
      ],
      "text/plain": [
       "          0         1         2         3         4         5\n",
       "0  1.000000  0.000000  0.000000  0.000000  0.000000  0.000000\n",
       "1  0.919891  0.002651  0.000000  0.002859  0.000000  0.074598\n",
       "2  0.803704  0.000000  0.006940  0.000000  0.002859  0.186496\n",
       "3  0.629424  0.006434  0.000000  0.006940  0.000000  0.357202\n",
       "4  0.377654  0.000000  0.006434  0.000000  0.002651  0.613261\n",
       "5  0.000000  0.000000  0.000000  0.000000  0.000000  1.000000"
      ]
     },
     "execution_count": 2,
     "metadata": {},
     "output_type": "execute_result"
    }
   ],
   "source": [
    "#Gambler's ruin, 20 step transition probabilities\n",
    "from numpy.linalg import matrix_power\n",
    "res = matrix_power(P, 20)\n",
    "#Print the result out nicely\n",
    "cols =range(0,6)\n",
    "pd.DataFrame(res, columns=cols, index=cols)"
   ]
  },
  {
   "cell_type": "markdown",
   "id": "ee52135c-015a-4577-80dc-e1901ad33632",
   "metadata": {},
   "source": [
    "What happens when the initial state is random? We may want to know what the weather is like tomorrow, but we don't know that it is today (haven't looked outside the window). Then, \n",
    "\n",
    "$$P(X_n=y) = \\sum_x{P(X_0=x,X_n=y)} = \\sum_x{P(X_0=x)P(X_n=y|X_0=x)}$$\n",
    "\n",
    "If we define $\\mu(x) = P(X_0=x)$, then we can write\n",
    "\n",
    "$$P(X_n=y) = \\sum_x{\\mu(x)p^n(y,x)}$$\n",
    "\n",
    "In words, we multiply the $n$th transition matrix on the left by the vector $\\mu$. We can practice on the Weather chain."
   ]
  },
  {
   "cell_type": "markdown",
   "id": "f4c657d6-3de1-4595-b488-d2ae1d2ec289",
   "metadata": {},
   "source": [
    "## L10.3 State classification\n",
    "\n",
    "Now, we look into situations when something returns to its state at a later time and define the random variable\n",
    "\n",
    "$$T_y = min\\{n \\ge 1:X_n=y, X_0=y\\}$$\n",
    "\n",
    "This is the time of first return to $y$. We then define the probability that $X$ returns to $y$ as\n",
    "\n",
    "$$g_y = P(T_y<\\infty)$$\n",
    "\n",
    "Since we have the Markov property, the probability that $X_n$ will return to $y$ two times is $g_y^2$ (it sort of restarts when it reaches the state again), and $n$ times is $g_y^n$. Now we have two possibilities:\n",
    "\n",
    "1. $g_y < 1$: Here, the probability of return $n$ times dies out, i.e., $g_y^n \\rightarrow 0$ as $n \\rightarrow \\infty$. A state $y$ that has $g_y < 1$ is called **transient**.\n",
    "\n",
    "2. $g_y = 1$: The probability of return many times is always 1 since $g_y^n = 1$. A state with $g_y = 1$ is called **recurrent**.\n",
    "\n",
    "To understand these concepts, we look at the gambler's ruin again."
   ]
  },
  {
   "cell_type": "code",
   "execution_count": 3,
   "id": "c90600ba-7a03-4740-98ce-f61c8fea4877",
   "metadata": {},
   "outputs": [
    {
     "data": {
      "text/html": [
       "<div>\n",
       "<style scoped>\n",
       "    .dataframe tbody tr th:only-of-type {\n",
       "        vertical-align: middle;\n",
       "    }\n",
       "\n",
       "    .dataframe tbody tr th {\n",
       "        vertical-align: top;\n",
       "    }\n",
       "\n",
       "    .dataframe thead th {\n",
       "        text-align: right;\n",
       "    }\n",
       "</style>\n",
       "<table border=\"1\" class=\"dataframe\">\n",
       "  <thead>\n",
       "    <tr style=\"text-align: right;\">\n",
       "      <th></th>\n",
       "      <th>0</th>\n",
       "      <th>1</th>\n",
       "      <th>2</th>\n",
       "      <th>3</th>\n",
       "      <th>4</th>\n",
       "      <th>5</th>\n",
       "    </tr>\n",
       "  </thead>\n",
       "  <tbody>\n",
       "    <tr>\n",
       "      <th>0</th>\n",
       "      <td>1.0</td>\n",
       "      <td>0.0</td>\n",
       "      <td>0.0</td>\n",
       "      <td>0.0</td>\n",
       "      <td>0.0</td>\n",
       "      <td>0.0</td>\n",
       "    </tr>\n",
       "    <tr>\n",
       "      <th>1</th>\n",
       "      <td>0.6</td>\n",
       "      <td>0.0</td>\n",
       "      <td>0.4</td>\n",
       "      <td>0.0</td>\n",
       "      <td>0.0</td>\n",
       "      <td>0.0</td>\n",
       "    </tr>\n",
       "    <tr>\n",
       "      <th>2</th>\n",
       "      <td>0.0</td>\n",
       "      <td>0.6</td>\n",
       "      <td>0.0</td>\n",
       "      <td>0.4</td>\n",
       "      <td>0.0</td>\n",
       "      <td>0.0</td>\n",
       "    </tr>\n",
       "    <tr>\n",
       "      <th>3</th>\n",
       "      <td>0.0</td>\n",
       "      <td>0.0</td>\n",
       "      <td>0.6</td>\n",
       "      <td>0.0</td>\n",
       "      <td>0.4</td>\n",
       "      <td>0.0</td>\n",
       "    </tr>\n",
       "    <tr>\n",
       "      <th>4</th>\n",
       "      <td>0.0</td>\n",
       "      <td>0.0</td>\n",
       "      <td>0.0</td>\n",
       "      <td>0.6</td>\n",
       "      <td>0.0</td>\n",
       "      <td>0.4</td>\n",
       "    </tr>\n",
       "    <tr>\n",
       "      <th>5</th>\n",
       "      <td>0.0</td>\n",
       "      <td>0.0</td>\n",
       "      <td>0.0</td>\n",
       "      <td>0.0</td>\n",
       "      <td>0.0</td>\n",
       "      <td>1.0</td>\n",
       "    </tr>\n",
       "  </tbody>\n",
       "</table>\n",
       "</div>"
      ],
      "text/plain": [
       "     0    1    2    3    4    5\n",
       "0  1.0  0.0  0.0  0.0  0.0  0.0\n",
       "1  0.6  0.0  0.4  0.0  0.0  0.0\n",
       "2  0.0  0.6  0.0  0.4  0.0  0.0\n",
       "3  0.0  0.0  0.6  0.0  0.4  0.0\n",
       "4  0.0  0.0  0.0  0.6  0.0  0.4\n",
       "5  0.0  0.0  0.0  0.0  0.0  1.0"
      ]
     },
     "execution_count": 3,
     "metadata": {},
     "output_type": "execute_result"
    }
   ],
   "source": [
    "cols =range(0,6)\n",
    "pd.DataFrame(P, columns=cols, index=cols)"
   ]
  },
  {
   "cell_type": "markdown",
   "id": "c0ff1f1f-7050-4ce5-a496-5412eac5a496",
   "metadata": {},
   "source": [
    "The 0th state is clearly recurrent, since $p(y,y) = 1$. You will always come back to this state and in fact you will always stay there. The state is therefore called **absorbing state**. The same is true for state 5. This state is also absorbing and therefore recurrent. We can also show that the other states, 1,2,3,4 are all transient (makes sense since we will eventually either be bankrupt or hit state 5). To see this, there is a positive probability of never returning to state 1:\n",
    "\n",
    "$$P(T_1 = \\infty|X_0=1) \\ge p(1,0) = 0.6 > 0$$.\n",
    "\n",
    "I.e., there is a positive probability of goint to either of the absorbing states and get stuck there and never return. The same applies to all the other intermediate states.\n",
    "\n",
    "This clearly relates to the situations we say earlier (after 20 steps, very low probability of being in any other state than 0 or 5). \n",
    "\n",
    "We will look at one more concept relating to Markov chains, but there are many more interesting things to explore in this regards. The concept is that of communication. Essentially, if you can get from state $i$ to state $j$ with positive probability, then $i$ **communicates** with $j$ and we write $i \\rightarrow j$. In this case\n",
    "\n",
    "$$\\rho_{ij} = P(X_n=j \\text{ for some } n>0 |X_0=i) > 0$$\n",
    "\n",
    "In the gambler's ruin case, states 1,2,3,4 all communicate with all states in the chain, but states 0 and 5 only communcate with themselves. \n",
    "\n",
    "There are couple of interesting theorems that we will not prove, but state here:\n",
    "\n",
    "If $i$ communicates with $j$ but $j$ does not communicate with $i$ then $i$ is transient.\n",
    "\n",
    "If all states in chain (or a closed set = set that is impossible to get out of) communicate with one another, then all the states are recurrent. This is called an irreducable chain."
   ]
  },
  {
   "cell_type": "markdown",
   "id": "3717f769-9436-48cb-bca7-f375e837714e",
   "metadata": {},
   "source": [
    "## L 10.4 Limit behaviour\n",
    "\n",
    "If a chain is irreducable and aperiodic (means that $p(i,i) > 0$) then it has a limiting or stationary distribution. This means that the transition probabilities do not change. If you raise the transition matrix to a high power, you will get the limiting ditribution where all rows look the same (if it exists). It is defined by\n",
    "\n",
    "$$\\pi P = \\pi$$\n",
    "\n",
    "where $\\pi$ is a row vector. One can think of this differently, by defining $\\Pi$ to be a matrix where all the rows are the same. Then the equation above becomes\n",
    "\n",
    "$$\\Pi P = \\Pi$$\n",
    "\n",
    "and we we multiply with any number of $P$´s on the right, we always end up with $\\Pi$.\n",
    " \n",
    "Thus, we can solve this system of linear equation, when a solution exists, to get the limiting distribution. This has many important interpretations. One is that in a long time, the current state will not influence where you will be. Another is that the limiting distribution tells you the long term fraction of the time that the chain spends in each state.\n",
    "\n",
    "The stationary distribution $\\pi$ is found from solving $\\pi P = \\pi$. This can also be written $P^T\\pi = \\pi$, or $(P^T-I)\\pi = 0$, and the elementwise sum of the vector $\\pi$ must be 1.\n",
    "\n",
    "Let's take a look at an example of the weather chain ($P$)\n",
    "\n",
    "<table>\n",
    "    <tr><td>0</td><td>1</td><td>2</td><td>3</td></tr>\n",
    "    <tr><td>1</td><td>0.4</td><td>0.6</td><td>0.0</td></tr>\n",
    "    <tr><td>2</td><td>0.2</td><td>0.5</td><td>0.3</td></tr>\n",
    "    <tr><td>3</td><td>0.1</td><td>0.7</td><td>0.2</td></tr>\n",
    "</table>\n",
    "\n",
    "We can solve for the stationary distribution as follows"
   ]
  },
  {
   "cell_type": "code",
   "execution_count": 4,
   "id": "d90f6858-f050-405d-99b6-ceedcb71c8dc",
   "metadata": {},
   "outputs": [
    {
     "name": "stdout",
     "output_type": "stream",
     "text": [
      "[[-0.6  0.2  0.1]\n",
      " [ 0.6 -0.5  0.7]\n",
      " [ 0.   0.3 -0.8]]\n",
      "[[-0.6  0.2  0.1]\n",
      " [ 0.6 -0.5  0.7]\n",
      " [ 0.   0.3 -0.8]\n",
      " [ 1.   1.   1. ]]\n",
      "[0 0 0 1]\n",
      "[0.22352941 0.56470588 0.21176471]\n"
     ]
    },
    {
     "name": "stderr",
     "output_type": "stream",
     "text": [
      "C:\\Users\\Notandi\\AppData\\Local\\Temp\\ipykernel_21896\\986356598.py:18: FutureWarning: `rcond` parameter will change to the default of machine precision times ``max(M, N)`` where M and N are the input matrix dimensions.\n",
      "To use the future default and silence this warning we advise to pass `rcond=None`, to keep using the old, explicitly pass `rcond=-1`.\n",
      "  x = np.linalg.lstsq(A, b)[0]\n"
     ]
    },
    {
     "data": {
      "text/plain": [
       "array([0.22352941, 0.56470588, 0.21176471])"
      ]
     },
     "execution_count": 4,
     "metadata": {},
     "output_type": "execute_result"
    }
   ],
   "source": [
    "#Numerical way of solving for the transition distribution\n",
    "\n",
    "P = np.array([[0.4, 0.6, 0.0],\n",
    "     [0.2, 0.5, 0.3],\n",
    "     [0.1, 0.7, 0.2]])\n",
    "\n",
    "#Sutract the identiy matrix\n",
    "A = P.T - np.identity(3)\n",
    "print(A)\n",
    "#Add a row of ones\n",
    "A = np.append(A,[np.ones(3)],axis= 0)\n",
    "print(A)\n",
    "#\n",
    "b = np.array([0,0,0,1]).T\n",
    "print(b)\n",
    "#Change one row in P.T - I to 1,1,1 and then solve it.\n",
    "\n",
    "x = np.linalg.lstsq(A, b)[0]\n",
    "print(x)\n",
    "x"
   ]
  },
  {
   "cell_type": "code",
   "execution_count": 5,
   "id": "3875a0e3-211e-4069-9951-cae81de3bad0",
   "metadata": {},
   "outputs": [
    {
     "data": {
      "text/plain": [
       "array([[0.22352941, 0.56470588, 0.21176471],\n",
       "       [0.22352941, 0.56470588, 0.21176471],\n",
       "       [0.22352941, 0.56470588, 0.21176471]])"
      ]
     },
     "execution_count": 5,
     "metadata": {},
     "output_type": "execute_result"
    }
   ],
   "source": [
    "import numpy as np\n",
    "P = np.array([[0.4, 0.6, 0.0],\n",
    "     [0.2, 0.5, 0.3],\n",
    "     [0.1, 0.7, 0.2]])\n",
    "\n",
    "np.linalg.matrix_power(P,100)"
   ]
  },
  {
   "cell_type": "markdown",
   "id": "24eb72c3-249d-4474-b18c-0774f48bb8c3",
   "metadata": {},
   "source": [
    "I.e., the weather is about 22% of the time snowy, 56% of time cloudy and 21% of the time sunny.\n",
    "\n",
    "Finally, let's look at an inventory chain example. Suppose a store sells 0, 1, 2, 3 units of its products each day with probabilities 0.3, 0.4, 0.2 and 0.1. Each night at the close of business, new units can be ordered which will be available when the store opens in the morning. Suppose the profit of a sold item is 120 but the cost of keeping it overnight is 20. We cannot sell more than 3 units a day, so our inventory will never exceed 3. Now, let's assume we adopt the 2,3 strategy, i.e., we order more units if the stock falls below 2, and we top up so that we start the new day with 3 units (hence 2,3).\n",
    "\n",
    "Our Markov chain looks like this (state at the end of each day):\n",
    "\n",
    "<table>\n",
    "    <tr><td> </td><td>0</td><td>1</td><td>2</td><td>3</td></tr>\n",
    "    <tr><td>0</td><td>0.1</td><td>0.2</td><td>0.4</td><td>0.3</td></tr>\n",
    "    <tr><td>1</td><td>0.1</td><td>0.2</td><td>0.4</td><td>0.3</td></tr>\n",
    "    <tr><td>2</td><td>0.1</td><td>0.2</td><td>0.4</td><td>0.3</td></tr>\n",
    "    <tr><td>3</td><td>0.1</td><td>0.2</td><td>0.4</td><td>0.3</td></tr>\n",
    "</table>\n",
    "\n",
    "The stationary distribution is [0.1,0.2,0.4,0.3]. If we end the day with $k$ units, then we sold $3=k$ units and the income from the sales is $(3-k)*120$. In the long run, our daily sales will be\n",
    "\n",
    "$$0.1*360 + 0.2*240 + 0.4*120 + 0.5*0 = 132$$\n",
    "\n",
    "The daily costs are $k*20$:\n",
    "\n",
    "$$0.1*0 + 0.2*20 + 0.4*40 + 0.5*60 = 38$$\n",
    "\n",
    "The net profit is then 132 - 38 = 94.\n",
    "\n",
    "We can also test other strategies and see which ones work best..."
   ]
  },
  {
   "cell_type": "markdown",
   "id": "47fcd038-0034-4365-a54c-67b23d69ed45",
   "metadata": {},
   "source": [
    "### Homework problems\n",
    "\n",
    "1. Compute the four-step transition probabilities of the Weather chain, $p^4(i,j)$.\n",
    "\n",
    "2. Three white balls and three black balls are distributed evenly in two urns (each urn always has 3 balls). At each step, one ball is chosen at random from each urn and moved to the other urn. Let $X_n$ be the number of white balls in the left urn at time n. Write up the transition matrix for $X_n$.\n",
    "\n",
    "3. Suppose the economy can be in one of three states: high, base and low. Suppose the transition matrix between periods  is as follows\n",
    "\n",
    "<table>\n",
    "    <tr><td> </td><td>H</td><td>B</td><td>L</td></tr>\n",
    "    <tr><td>H</td><td>0.9</td><td>0.1</td><td>0</td></tr>\n",
    "    <tr><td>B</td><td>c</td><td>0.83</td><td>0.15</td></tr>\n",
    "    <tr><td>L</td><td>0</td><td>0.05</td><td>0.95</td></tr>\n",
    "</table>\n",
    "\n",
    "(a) Find c.  (b) If we start at the base, what is the probability that we will be in the low state after two periods. (c) Find the limiting distribution of states of the economy.\n",
    "\n"
   ]
  },
  {
   "cell_type": "markdown",
   "id": "aac7909f-eb68-468f-8ab1-53146e346854",
   "metadata": {},
   "source": [
    "https://www.probabilitycourse.com/chapter11/11_1_5_solved_probs.php\n",
    "\n",
    "https://www.probabilitycourse.com/chapter11/11_2_7_solved_probs.php\n",
    "\n",
    "https://www.probabilitycourse.com/chapter11/11_4_3_solved_probs.php"
   ]
  },
  {
   "cell_type": "code",
   "execution_count": 6,
   "id": "4236851f-699f-488e-8e5f-d0806a6054a7",
   "metadata": {},
   "outputs": [
    {
     "data": {
      "text/plain": [
       "array([[0.88888889, 0.11111111],\n",
       "       [0.88888889, 0.11111111]])"
      ]
     },
     "execution_count": 6,
     "metadata": {},
     "output_type": "execute_result"
    }
   ],
   "source": [
    "import numpy as np\n",
    "P = np.array([[0.9, 0.1],\n",
    "     [0.8, 0.2]])\n",
    "\n",
    "np.linalg.matrix_power(P,40)"
   ]
  },
  {
   "cell_type": "code",
   "execution_count": 7,
   "id": "f858a2a1-3bab-41b4-8a11-f91f7d548aba",
   "metadata": {},
   "outputs": [
    {
     "name": "stdout",
     "output_type": "stream",
     "text": [
      "[[0.2278 0.5634 0.2088]\n",
      " [0.2226 0.5653 0.2121]\n",
      " [0.2215 0.5645 0.214 ]]\n"
     ]
    },
    {
     "data": {
      "text/plain": [
       "1.1222222222222222"
      ]
     },
     "execution_count": 7,
     "metadata": {},
     "output_type": "execute_result"
    }
   ],
   "source": [
    "# 1.\n",
    "\n",
    "P_weather = np.array([[0.4, 0.6, 0.0],\n",
    "     [0.2, 0.5, 0.3],\n",
    "     [0.1, 0.7, 0.2]])\n",
    "\n",
    "ans = np.linalg.matrix_power(P_weather,4)\n",
    "print(ans)\n",
    "2/5 + 1/4 + 2/9 + 1/4"
   ]
  },
  {
   "cell_type": "code",
   "execution_count": 8,
   "id": "69e365d1",
   "metadata": {},
   "outputs": [
    {
     "data": {
      "text/plain": [
       "array([[0.04761905, 0.23809524, 0.71428571],\n",
       "       [0.04761905, 0.23809524, 0.71428571],\n",
       "       [0.04761905, 0.23809524, 0.71428571]])"
      ]
     },
     "execution_count": 8,
     "metadata": {},
     "output_type": "execute_result"
    }
   ],
   "source": [
    "P = np.array(        [[0.9, 0.1, 0.0],\n",
    "                     [0.02, 0.83, 0.15],\n",
    "                     [0, 0.05, 0.95]])\n",
    "\n",
    "ans = np.linalg.matrix_power(P,1000)\n",
    "ans"
   ]
  },
  {
   "cell_type": "code",
   "execution_count": 9,
   "id": "90a5012f",
   "metadata": {},
   "outputs": [
    {
     "name": "stdout",
     "output_type": "stream",
     "text": [
      "[[-0.1   0.02  0.  ]\n",
      " [ 0.1  -0.17  0.05]\n",
      " [ 0.    0.15 -0.05]]\n",
      "[[-0.1   0.02  0.  ]\n",
      " [ 0.1  -0.17  0.05]\n",
      " [ 0.    0.15 -0.05]\n",
      " [ 1.    1.    1.  ]]\n",
      "[0 0 0 1]\n",
      "[0.04761905 0.23809524 0.71428571]\n"
     ]
    },
    {
     "name": "stderr",
     "output_type": "stream",
     "text": [
      "C:\\Users\\Notandi\\AppData\\Local\\Temp\\ipykernel_21896\\3610950268.py:12: FutureWarning: `rcond` parameter will change to the default of machine precision times ``max(M, N)`` where M and N are the input matrix dimensions.\n",
      "To use the future default and silence this warning we advise to pass `rcond=None`, to keep using the old, explicitly pass `rcond=-1`.\n",
      "  x = np.linalg.lstsq(A, b)[0] # Ax = b leysa f x\n"
     ]
    },
    {
     "data": {
      "text/plain": [
       "array([0.04761905, 0.23809524, 0.71428571])"
      ]
     },
     "execution_count": 9,
     "metadata": {},
     "output_type": "execute_result"
    }
   ],
   "source": [
    "#Sutract the identiy matrix\n",
    "A = P.T - np.identity(3)\n",
    "print(A)\n",
    "#Add a row of ones\n",
    "A = np.append(A,[np.ones(3)],axis= 0)\n",
    "print(A)\n",
    "#\n",
    "b = np.array([0,0,0,1]).T\n",
    "print(b)\n",
    "#Change one row in P.T - I to 1,1,1 and then solve it.\n",
    "\n",
    "x = np.linalg.lstsq(A, b)[0] # Ax = b leysa f x\n",
    "print(x)\n",
    "x"
   ]
  },
  {
   "cell_type": "code",
   "execution_count": 86,
   "id": "5db8b011",
   "metadata": {},
   "outputs": [
    {
     "data": {
      "image/png": "[encoded data removed]",
      "text/plain": [
       "<Figure size 640x480 with 1 Axes>"
      ]
     },
     "metadata": {},
     "output_type": "display_data"
    }
   ],
   "source": [
    "import numpy as np\n",
    "import matplotlib.pyplot as plt\n",
    "\n",
    "x_CO_1 = 4.4\n",
    "y_CO_1 = 3\n",
    "\n",
    "x_CO_2 = 4.6\n",
    "y_CO_2 = 1\n",
    "\n",
    "x_SiO_1 = 4.4\n",
    "y_SiO_1 = 3\n",
    "\n",
    "x_SiO_2 = 4.7\n",
    "y_SiO_2 = 1\n",
    "\n",
    "def semilog_line(x, x1, y1, x2, y2):\n",
    "    m = np.log10(y2/y1)/(x2-x1)\n",
    "    return y1*(10**(m*(x-x1)))\n",
    "\n",
    "x = np.linspace(4, 5.6, 1000)\n",
    "\n",
    "# Compute the individual lines\n",
    "CO_line = semilog_line(x, x_CO_1, y_CO_1, x_CO_2, y_CO_2)\n",
    "SiO_line = semilog_line(x, x_SiO_1, y_SiO_1, x_SiO_2, y_SiO_2)\n",
    "\n",
    "# Compute the sum of the two lines\n",
    "sum_line = CO_line + SiO_line\n",
    "\n",
    "# Plot the individual lines\n",
    "plt.plot(x, CO_line, label=\"P_CO\")\n",
    "plt.plot(x, SiO_line, label=\"P_SiO\")\n",
    "\n",
    "# Plot the sum of the two lines\n",
    "plt.plot(x, sum_line, label=\"P = P_CO + P_SiO\", linestyle='dashed')\n",
    "\n",
    "plt.yscale('log')  # Set y-axis to logarithmic scale\n",
    "\n",
    "# Set the yticks\n",
    "yticks = [10**i for i in range(-1, 3)]  # This will give [0.1, 1, 10, 100]\n",
    "plt.yticks(yticks, yticks)\n",
    "\n",
    "plt.grid(True, linestyle='--', linewidth=0.5)\n",
    "plt.xlabel(\"$10^4 / T $  [K]\")\n",
    "plt.ylabel(\"Pressure [bar]\")\n",
    "plt.legend()\n",
    "plt.show()\n"
   ]
  }
 ],
 "metadata": {
  "kernelspec": {
   "display_name": "Python 3 (ipykernel)",
   "language": "python",
   "name": "python3"
  },
  "language_info": {
   "codemirror_mode": {
    "name": "ipython",
    "version": 3
   },
   "file_extension": ".py",
   "mimetype": "text/x-python",
   "name": "python",
   "nbconvert_exporter": "python",
   "pygments_lexer": "ipython3",
   "version": "3.11.2"
  }
 },
 "nbformat": 4,
 "nbformat_minor": 5
}
